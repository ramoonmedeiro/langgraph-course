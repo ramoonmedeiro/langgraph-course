{
 "cells": [
  {
   "cell_type": "markdown",
   "id": "83cad3dd",
   "metadata": {},
   "source": [
    "# Langgraph com tools\n",
    "\n",
    "A ideia é construir um agente que possa utilizar uma tool de busca na internet"
   ]
  },
  {
   "cell_type": "markdown",
   "id": "a21e8fc5",
   "metadata": {},
   "source": [
    "# Instanciando modelo e tools"
   ]
  },
  {
   "cell_type": "markdown",
   "id": "cc4f1ad8",
   "metadata": {},
   "source": [
    "## Criando tool\n",
    "\n",
    "Iremos usar uma mistura de coisas para fazer a tool de busca na internet.\n",
    "\n",
    "1 - Vamos usar a Serper para pegar urls que fazem sentido com a busca do usuário.\n",
    "\n",
    "2-  Iremos usar o playwright para pegar o contexto certo e responder a pergunta"
   ]
  },
  {
   "cell_type": "code",
   "execution_count": 1,
   "id": "32934e09",
   "metadata": {},
   "outputs": [],
   "source": [
    "from dotenv import load_dotenv, find_dotenv\n",
    "import os\n",
    "\n",
    "load_dotenv(find_dotenv())\n",
    "\n",
    "serper_api_key = os.getenv(\"SERPER_API_KEY\")"
   ]
  },
  {
   "cell_type": "code",
   "execution_count": 2,
   "id": "7864f73c",
   "metadata": {},
   "outputs": [],
   "source": [
    "from langchain_community.utilities import GoogleSerperAPIWrapper\n",
    "from langchain_core.tools import tool\n",
    "from typing import List\n",
    "from pydantic import BaseModel, Field\n",
    "\n",
    "class GetAllLinksInput(BaseModel):\n",
    "    query: str = Field(description=\"Query que a llm deverá trazer os links associados\")\n",
    "\n",
    "@tool(name_or_callable=\"get-all-links\", args_schema=GetAllLinksInput)\n",
    "def get_all_links(query: str) -> List[str]: \n",
    "    \"\"\"\n",
    "    Realiza uma busca na web usando a Google Serper API e extrai uma lista\n",
    "    dos URLs orgânicos dos resultados.\n",
    "\n",
    "    Esta função inicializa um wrapper para a Serper API com configurações\n",
    "    específicas para busca no Brasil e em português, limitando os resultados\n",
    "    aos 10 principais links orgânicos.\n",
    "\n",
    "    Args:\n",
    "        query (str): O termo ou frase de busca a ser usado na Serper API.\n",
    "                     Exemplo: \"notícias de inteligência artificial hoje\".\n",
    "\n",
    "    Returns:\n",
    "        List[str]: Uma lista de strings, onde cada string é um URL\n",
    "                   (\"link\") de um resultado de busca orgânico. A lista\n",
    "                   conterá no máximo 10 links.\n",
    "\n",
    "    \"\"\"\n",
    "    search_wrapper = GoogleSerperAPIWrapper(\n",
    "        k=5,\n",
    "        gl=\"br\",\n",
    "        hl=\"pt\",\n",
    "        serper_api_key=serper_api_key\n",
    "    )   \n",
    "\n",
    "    results = search_wrapper.results(query=query)\n",
    "    links = [r[\"link\"] for r in results[\"organic\"]]\n",
    "    return links\n"
   ]
  },
  {
   "cell_type": "code",
   "execution_count": 3,
   "id": "eb65aa4b",
   "metadata": {},
   "outputs": [
    {
     "data": {
      "text/plain": [
       "['https://ge.globo.com/futebol/brasileirao-serie-a/',\n",
       " 'https://www.espn.com.br/futebol/classificacao/_/liga/bra.1',\n",
       " 'https://www.cnnbrasil.com.br/esportes/futebol/tabela-do-brasileirao/',\n",
       " 'https://veja.abril.com.br/campeonatos/brasileirao-serie-a-2025/',\n",
       " 'https://www.lance.com.br/tabela/brasileirao']"
      ]
     },
     "execution_count": 3,
     "metadata": {},
     "output_type": "execute_result"
    }
   ],
   "source": [
    "links = get_all_links.invoke({\"query\":\"Classificação brasileirão 2025 hoje\"})\n",
    "links"
   ]
  },
  {
   "cell_type": "code",
   "execution_count": 4,
   "id": "aeb07029",
   "metadata": {},
   "outputs": [],
   "source": [
    "from langchain_community.tools.playwright.utils import create_async_playwright_browser\n",
    "from langchain_community.agent_toolkits import PlayWrightBrowserToolkit\n",
    "import nest_asyncio\n",
    "nest_asyncio.apply()\n",
    "\n",
    "async_browser = create_async_playwright_browser()\n",
    "toolkit = PlayWrightBrowserToolkit(async_browser=async_browser)"
   ]
  },
  {
   "cell_type": "code",
   "execution_count": 5,
   "id": "f872a8b2",
   "metadata": {},
   "outputs": [],
   "source": [
    "playwright_tools = toolkit.get_tools()"
   ]
  },
  {
   "cell_type": "code",
   "execution_count": 6,
   "id": "c993addc",
   "metadata": {},
   "outputs": [],
   "source": [
    "tools_by_name = {tool.name: tool for tool in playwright_tools}\n",
    "navigate_tool = tools_by_name[\"navigate_browser\"]\n",
    "click_element_tool = tools_by_name[\"click_element\"]\n",
    "extract_text_tool = tools_by_name[\"extract_text\"]"
   ]
  },
  {
   "cell_type": "code",
   "execution_count": 7,
   "id": "23868af8",
   "metadata": {},
   "outputs": [],
   "source": [
    "all_tools = [get_all_links, navigate_tool, click_element_tool, extract_text_tool]"
   ]
  },
  {
   "cell_type": "markdown",
   "id": "5b63afa2",
   "metadata": {},
   "source": [
    "### Instanciando modelo\n",
    "\n",
    "Aqui eu irei usar os modelos hospedados na plataforma GROQ"
   ]
  },
  {
   "cell_type": "code",
   "execution_count": 8,
   "id": "4b26d685",
   "metadata": {},
   "outputs": [
    {
     "data": {
      "text/plain": [
       "AIMessage(content='Olá! Como posso ajudar você hoje?', additional_kwargs={}, response_metadata={'token_usage': {'completion_tokens': 10, 'prompt_tokens': 12, 'total_tokens': 22, 'completion_time': 0.023931071, 'prompt_time': 0.000213677, 'queue_time': 0.460791262, 'total_time': 0.024144748}, 'model_name': 'meta-llama/llama-4-scout-17b-16e-instruct', 'system_fingerprint': 'fp_37da608fc1', 'service_tier': 'on_demand', 'finish_reason': 'stop', 'logprobs': None}, id='run--af61482d-20ba-4b5f-ba6e-285acae45750-0', usage_metadata={'input_tokens': 12, 'output_tokens': 10, 'total_tokens': 22})"
      ]
     },
     "execution_count": 8,
     "metadata": {},
     "output_type": "execute_result"
    }
   ],
   "source": [
    "from langchain_groq import ChatGroq\n",
    "\n",
    "model = ChatGroq(model=\"meta-llama/llama-4-scout-17b-16e-instruct\", temperature=0)\n",
    "model.invoke(\"Olá\")"
   ]
  },
  {
   "cell_type": "code",
   "execution_count": 9,
   "id": "cf020bfe",
   "metadata": {},
   "outputs": [],
   "source": [
    "model_with_tools = model.bind_tools(all_tools)"
   ]
  },
  {
   "cell_type": "markdown",
   "id": "84b503e4",
   "metadata": {},
   "source": [
    "# Estado do grafo\n",
    "\n",
    "A ideia aqui é criar uma chave, que irá appendar cada vez que tiver uma mensagem do usuário (HumanMessage) ou da tool (ToolMessage) ou \n",
    "da IA (AIMessage). E também pode guardar mensagens do SystemMessage"
   ]
  },
  {
   "cell_type": "code",
   "execution_count": 10,
   "id": "fc223a11",
   "metadata": {},
   "outputs": [],
   "source": [
    "from typing import TypedDict, Annotated\n",
    "from langgraph.graph.message import add_messages\n",
    "\n",
    "class State(TypedDict):\n",
    "    messages: Annotated[list, add_messages]"
   ]
  },
  {
   "cell_type": "markdown",
   "id": "c297f573",
   "metadata": {},
   "source": [
    "### Testando o operador add_messages"
   ]
  },
  {
   "cell_type": "code",
   "execution_count": 11,
   "id": "f7ec9808",
   "metadata": {},
   "outputs": [],
   "source": [
    "from langchain_core.messages import HumanMessage, AIMessage\n",
    "messagens_iniciais = [\n",
    "    AIMessage(content=\"Olá, como eu posso te ajudar hoje?\"),\n",
    "    HumanMessage(content=\"Quero saber quem foi o campeão mundial de clubes em 2005\")\n",
    "]\n",
    "\n",
    "nova_mensagem = AIMessage(content=\"O campeão foi o maior time do mundo. O São Paulo FC\")"
   ]
  },
  {
   "cell_type": "code",
   "execution_count": 12,
   "id": "5a687daa",
   "metadata": {},
   "outputs": [
    {
     "data": {
      "text/plain": [
       "[AIMessage(content='Olá, como eu posso te ajudar hoje?', additional_kwargs={}, response_metadata={}, id='19076f47-23e8-4a64-ae38-6467e82c9285'),\n",
       " HumanMessage(content='Quero saber quem foi o campeão mundial de clubes em 2005', additional_kwargs={}, response_metadata={}, id='eaa85976-1dd3-4d1a-b4de-8e85a8c24c50'),\n",
       " AIMessage(content='O campeão foi o maior time do mundo. O São Paulo FC', additional_kwargs={}, response_metadata={}, id='82689ac8-1e58-4edb-9005-a63de953d5e5')]"
      ]
     },
     "execution_count": 12,
     "metadata": {},
     "output_type": "execute_result"
    }
   ],
   "source": [
    "add_messages(left=messagens_iniciais, right=nova_mensagem)"
   ]
  },
  {
   "cell_type": "markdown",
   "id": "c25c9792",
   "metadata": {},
   "source": [
    "# Criando grafo"
   ]
  },
  {
   "cell_type": "markdown",
   "id": "9d3a4ff2",
   "metadata": {},
   "source": [
    "### Criando único nó"
   ]
  },
  {
   "cell_type": "code",
   "execution_count": 13,
   "id": "1a0c3a58",
   "metadata": {},
   "outputs": [],
   "source": [
    "from langgraph.prebuilt import ToolNode, tools_condition\n",
    "from langgraph.graph import StateGraph, START, END\n",
    "\n",
    "# Definir o nó do LLM\n",
    "def chatbot(state: State):\n",
    "    return {\"messages\": [model_with_tools.invoke(state[\"messages\"])]}\n",
    "\n",
    "builder = StateGraph(State)\n",
    "builder.add_node(\"chatbot\", chatbot)\n",
    "\n",
    "# Criar nó de ferramentas\n",
    "tool_node = ToolNode(tools=all_tools)\n",
    "builder.add_node(\"tools\", tool_node)\n",
    "\n",
    "# Se o modelo pedir uma ferramenta -> ir para \"tools\"\n",
    "# Se não -> encerrar\n",
    "builder.add_conditional_edges(\n",
    "    \"chatbot\",\n",
    "    tools_condition,\n",
    ")\n",
    "\n",
    "# Após usar a ferramenta, volta para o LLM\n",
    "builder.add_edge(\"tools\", \"chatbot\")\n",
    "\n",
    "# Definir início\n",
    "builder.set_entry_point(\"chatbot\")\n",
    "\n",
    "graph = builder.compile()\n"
   ]
  },
  {
   "cell_type": "code",
   "execution_count": 14,
   "id": "d97f823f",
   "metadata": {},
   "outputs": [
    {
     "data": {
      "image/png": "[encoded data removed]",
      "text/plain": [
       "<IPython.core.display.Image object>"
      ]
     },
     "metadata": {},
     "output_type": "display_data"
    }
   ],
   "source": [
    "from IPython.display import display, Image\n",
    "\n",
    "display(Image(graph.get_graph().draw_mermaid_png()))"
   ]
  },
  {
   "cell_type": "code",
   "execution_count": 19,
   "id": "184f2552",
   "metadata": {},
   "outputs": [],
   "source": [
    "from langchain_core.messages import HumanMessage, SystemMessage\n",
    "\n",
    "system_message = \"\"\"\n",
    "Você é o melhor em buscar informações na internet a partir das funções disponíveis para você.\n",
    "Use-as da maneira correta e efetiva para que a resposta do usuário seja respondida o mais certo e mais rápido possível\n",
    "\"\"\"\n",
    "\n",
    "user_input = \"Quem é o quinto colocado do campeonato brasileiro hoje??\"\n",
    "state = {\n",
    "    \"messages\": [\n",
    "        SystemMessage(content=system_message),\n",
    "        HumanMessage(content=user_input)\n",
    "    ]\n",
    "}"
   ]
  },
  {
   "cell_type": "code",
   "execution_count": 20,
   "id": "cb00e7f9",
   "metadata": {},
   "outputs": [],
   "source": [
    "results = await graph.ainvoke(state)"
   ]
  },
  {
   "cell_type": "code",
   "execution_count": 21,
   "id": "9a37e44f",
   "metadata": {},
   "outputs": [
    {
     "data": {
      "text/plain": [
       "{'messages': [SystemMessage(content='\\nVocê é o melhor em buscar informações na internet a partir das funções disponíveis para você.\\nUse-as da maneira correta e efetiva para que a resposta do usuário seja respondida o mais certo e mais rápido possível\\n', additional_kwargs={}, response_metadata={}, id='0f08715c-a631-45b1-b710-831f53a75dfa'),\n",
       "  HumanMessage(content='Quem é o quinto colocado do campeonato brasileiro hoje??', additional_kwargs={}, response_metadata={}, id='834942dd-6454-4a49-9407-29134f8425df'),\n",
       "  AIMessage(content='', additional_kwargs={'tool_calls': [{'id': 'yqbx0sea9', 'function': {'arguments': '{\"query\":\"classificação do campeonato brasileiro hoje\"}', 'name': 'get-all-links'}, 'type': 'function'}]}, response_metadata={'token_usage': {'completion_tokens': 29, 'prompt_tokens': 985, 'total_tokens': 1014, 'completion_time': 0.065840371, 'prompt_time': 0.030450557, 'queue_time': 0.197035049, 'total_time': 0.096290928}, 'model_name': 'meta-llama/llama-4-scout-17b-16e-instruct', 'system_fingerprint': 'fp_37da608fc1', 'service_tier': 'on_demand', 'finish_reason': 'tool_calls', 'logprobs': None}, id='run--24aa6ec9-9fb9-4d9c-92ce-fc31c67d4b39-0', tool_calls=[{'name': 'get-all-links', 'args': {'query': 'classificação do campeonato brasileiro hoje'}, 'id': 'yqbx0sea9', 'type': 'tool_call'}], usage_metadata={'input_tokens': 985, 'output_tokens': 29, 'total_tokens': 1014}),\n",
       "  ToolMessage(content='[\"https://ge.globo.com/futebol/brasileirao-serie-a/\", \"https://www.uol.com.br/esporte/futebol/campeonatos/brasileirao/\", \"https://www.espn.com.br/futebol/classificacao/_/liga/bra.1\", \"https://www.cbf.com.br/futebol-brasileiro/tabelas/campeonato-brasileiro/serie-a\", \"https://www.mat.ufmg.br/futebol/classificacao-geral_seriea/\"]', name='get-all-links', id='bfb41e65-2d86-48db-9b2b-81da51475fdd', tool_call_id='yqbx0sea9'),\n",
       "  AIMessage(content='', additional_kwargs={'tool_calls': [{'id': 'h31krywh8', 'function': {'arguments': '{\"url\":\"https://ge.globo.com/futebol/brasileirao-serie-a/\"}', 'name': 'navigate_browser'}, 'type': 'function'}]}, response_metadata={'token_usage': {'completion_tokens': 38, 'prompt_tokens': 1139, 'total_tokens': 1177, 'completion_time': 0.085923322, 'prompt_time': 0.033588023, 'queue_time': 0.197388785, 'total_time': 0.119511345}, 'model_name': 'meta-llama/llama-4-scout-17b-16e-instruct', 'system_fingerprint': 'fp_79da0e0073', 'service_tier': 'on_demand', 'finish_reason': 'tool_calls', 'logprobs': None}, id='run--51516787-2266-4bcf-b56e-b65173e4eca1-0', tool_calls=[{'name': 'navigate_browser', 'args': {'url': 'https://ge.globo.com/futebol/brasileirao-serie-a/'}, 'id': 'h31krywh8', 'type': 'tool_call'}], usage_metadata={'input_tokens': 1139, 'output_tokens': 38, 'total_tokens': 1177}),\n",
       "  ToolMessage(content='Navigating to https://ge.globo.com/futebol/brasileirao-serie-a/ returned status code 200', name='navigate_browser', id='bcbc1afc-cc3f-4561-82ce-e76d2d74aed6', tool_call_id='h31krywh8'),\n",
       "  AIMessage(content='', additional_kwargs={'tool_calls': [{'id': '31jja08b7', 'function': {'arguments': '{}', 'name': 'extract_text'}, 'type': 'function'}]}, response_metadata={'token_usage': {'completion_tokens': 16, 'prompt_tokens': 1219, 'total_tokens': 1235, 'completion_time': 0.03637395, 'prompt_time': 0.036153874, 'queue_time': 0.270754435, 'total_time': 0.072527824}, 'model_name': 'meta-llama/llama-4-scout-17b-16e-instruct', 'system_fingerprint': 'fp_5d3e4e58e1', 'service_tier': 'on_demand', 'finish_reason': 'tool_calls', 'logprobs': None}, id='run--0ff04ec1-4ccd-4d7a-8ee5-79d2cad391a6-0', tool_calls=[{'name': 'extract_text', 'args': {}, 'id': '31jja08b7', 'type': 'tool_call'}], usage_metadata={'input_tokens': 1219, 'output_tokens': 16, 'total_tokens': 1235}),\n",
       "  ToolMessage(content='Tabela e Jogos do Brasileirão Série A 2025 | ge | brasileirão série a | ge MENU TIMES Série A Série B Europa Brasileirão Betano Série A buscar MAIS BUSCADOS: MENU TIMES Série A Série B Europa Brasileirão Betano Série A classificação simulador S.A.B - BRAHMA vídeos compre ingressos assine premiere VAR Tabela Classificação 1 Flamengo FLA 0 2 Cruzeiro CRU 0 3 Palmeiras PAL 0 4 Mirassol MIR 0 5 Botafogo BOT 0 6 Bahia BAH 0 7 São Paulo SAO 0 8 Fluminense FLU 0 9 Bragantino RBB 0 10 Grêmio GRE 1 11 Vasco VAS 2 12 Ceará CEA 0 13 Corinthians COR 3 14 Atlético-MG CAM 2 15 Internacional INT 1 16 Santos SAN 1 17 Juventude JUV 1 18 Vitória VIT 1 19 Fortaleza FOR 0 20 Sport SPT 0 P J V E D GP GC SG % ÚLT. JOGOS 54 24 16 6 2 50 12 38 75 50 25 15 5 5 39 19 20 66 49 23 15 4 4 36 19 17 71 42 24 11 9 4 41 24 17 58 40 25 11 7 7 35 20 15 53 40 24 11 7 6 32 28 4 55 36 25 9 9 7 27 24 3 48 34 23 10 4 9 28 29 -1 49 32 25 9 5 11 31 37 -6 42 32 25 8 8 9 27 31 -4 42 30 25 8 6 11 38 35 3 40 29 24 7 8 9 22 23 -1 40 29 25 7 8 10 25 31 -6 38 28 23 7 7 9 22 26 -4 40 28 24 7 7 10 29 37 -8 38 27 24 7 6 11 24 34 -10 37 22 24 6 4 14 20 46 -26 30 22 25 4 10 11 20 38 -18 29 21 24 5 6 13 24 38 -14 29 14 23 2 8 13 16 35 -19 20 Libertadores Pré-Libertadores Sul-Americana Rebaixados subiu caiu manteve vitoria empate derrota ver regulamento JOGOS 25ª RODADA Castelão (CE) 27/09 Sábado 16:00 FOR Fortaleza 1 0 SPT Sport saiba como foi São Januário 27/09 Sábado 18:30 VAS Vasco 2 0 CRU Cruzeiro saiba como foi Alfredo Jaconi 27/09 Sábado 18:30 JUV Juventude 1 1 INT Internacional saiba como foi Arena MRV 27/09 Sábado 21:00 CAM Atlético-MG 1 0 MIR Mirassol saiba como foi Arena do Grêmio 28/09 Ontem 11:00 GRE Grêmio 3 1 VIT Vitória saiba como foi Maracanã 28/09 Ontem 16:00 FLU Fluminense 2 0 BOT Botafogo saiba como foi Casa de Apostas Arena Fonte Nova 28/09 Ontem 16:00 BAH Bahia 1 0 PAL Palmeiras saiba como foi Cícero de Souza Marques 28/09 Ontem 18:30 RBB Bragantino 2 2 SAN Santos saiba como foi Neo Química Arena 28/09 Ontem 20:30 COR Corinthians 1 2 FLA Flamengo saiba como foi Morumbis Hoje 20:00 SAO São Paulo 0 0 CEA Ceará ao vivo Artilharia Ranking Gols 1 Kaio Jorge Atacante 15 2 Arrascaeta Meio-campo 14 3 Vegetti Atacante 12 4 Pedro Atacante 10 5 Alan Patrick Meio-campo 8 Reinaldo Lateral-esquerdo 8 Vitor Roque Atacante 8 6 Pedro Raul Atacante 7 Rayan Atacante 7 Renato Kayzer Atacante 7 7 Barreal Meio-campo 6 Isidro Pitta Atacante 6 Flaco López Atacante 6 Yuri Alberto Atacante 6 Braithwaite Atacante 6 Cano Atacante 6 Chico da Costa Atacante 6 8 Gabriel Atacante 5 Luciano Juba Lateral-esquerdo 5 Eduardo Sasha Atacante 5 André Silva Atacante 5 Jhon Jhon Meio-campo 5 Matheus Pereira Meio-campo 5 Galeano Atacante 5 Luiz Araújo Atacante 5 Philippe Coutinho Meio-campo 5 9 Nuno Moreira Meio-campo 4 Gabriel Taliari Atacante 4 Laquintana Atacante 4 Borré Atacante 4 Memphis Depay Atacante 4 Cristian Atacante 4 Ferreira Atacante 4 Igor Gomes Meio-campo 4 Savarino Meio-campo 4 Facundo Torres Meio-campo 4 Batalla Atacante 4 Hulk Atacante 4 Edson Carioca Atacante 4 Breno Lopes Atacante 4 Michel Araújo Meio-campo 4 Guilherme Atacante 4 Luciano Atacante 4 Willian José Atacante 4 10 Rony Atacante 3 Lucas Ramon Lateral-direito 3 Léo Pereira Zagueiro esquerdo 3 Lucero Atacante 3 Igor Jesus Atacante 3 Piquerez Lateral-esquerdo 3 Mais do Brasileirão série a Guia do Brasileirão 2025 Quais são os favoritos ao título? Quais correm maior risco de cair? Veja as informações e faça sua avaliação Há 6 meses Avaliador de Elencos do Brasileirão 2025. Dê suas notas e veja as nossas Vai começar o Brasileirão, e o ge avalia os 24 principais jogadores dos clubes da elite. Vale lembrar que o momento vivido pelo atleta conta na hora de escolher seu status Há 6 meses SAO 0 0 CEA São Paulo x Ceará - Campeonato Brasileiro 2025 - Ao vivo - globoesporte.com Campeonato Brasileiro 2025 no globoesporte.com - acompanhe tudo sobre São Paulo x Ceará: escalação, informações sobre o jogo, fotos e muito mais Veja os destaques do esporte no Diário TV 1ª Edição desta segunda-feira, 29 de setembro Confira as atrações esportivas na edição de 29/09/2025 do Diário TV 1ª Edição 6 min mogi das cruzes suzano Bastidores: vitória do Fortaleza tem João Ricardo esperançoso, e Sasha de alma lavada Tricolor venceu por 1 a 0 com gol de Lucas Sasha fortaleza Cano iguala Kaio Jorge e reassume vice-liderança entre os artilheiros do Brasil em 2025; veja lista Pablo Vegetti, do Vasco, é o líder com 24 gols marcados. Atacante do Fluminense voltou a ser titular no último domingo fluminense Com Fernandinho e Lucca, Ceará divulga lista de atletas no DM antes de enfrentar o São Paulo Dois jogadores estão sob cuidados do departamento médico ceará Presidente do São Paulo pede desculpa à torcida: \"Período delicado de nossa história\" Julio Casares diz que entende chateação de torcedores com eliminação na Libertadores. Nesta segunda, um protesto foi realizado na porta do Morumbis são paulo Veja mais agenda tabelas globo © Copyright 2000-2025 Globo Comunicação e Participações S.A. princípios editoriais política de privacidade minha conta anuncie conosco brasileirão agenda times menu ge times Série A Série B Europa tabelas menu ge tabelas nacionais tabelas nacionais brasileirão série a copa do brasil copa do brasil feminina brasileirão série b brasileirão série c brasileirão série d copa do brasil sub-20 brasileirão sub-17 supercopa rei do brasil brasileirão feminino supercopa feminina brasileirão feminino a2 brasileirão feminino a3 copa sp de futebol jr brasileirão sub-20 brasileirão b sub-20 copa do brasil sub-17 internacionais tabelas internacionais mundial sub-20 libertadores libertadores feminina copa sul-americana champions league premier league copa da liga inglesa copa da inglaterra la liga copa do rei futebol italiano copa da itália bundesliga copa da alemanha futebol francês copa da frança liga europa liga conferência futebol saudita liga dos campeões da ásia copa intercontinental copa do mundo de clubes copa do mundo fem sub-17 eliminatórias - américa do sul eliminatórias - europa eliminatórias - áfrica eliminatórias - ásia eliminatórias - concacaf eliminatórias - oceania eliminatórias - repescagem mundial liga das nações libertadores sub-20 mundial sub-17 sul-americano sub-20 sul-americano sub-17 copa américa feminina copa do mundo feminina sul-americano fem sub-17 copa do mundo fem sub-20 brasil ladies cup copa ouro feminina copa américa eurocopa eliminatórias euro copa africana de nações copa da ásia regionais e estaduais tabelas regionais e estaduais pré-copa do nordeste copa do nordeste copa do nordeste sub-20 copa maria bonita copa verde acreano alagoano copa alagoas amapaense amazonense baiano brasiliense capixaba carioca carioca a2 copa rio catarinense catarinense 2ª divisão cearense gaúcho goiano maranhense mato-grossense mineiro mineiro módulo 2 mineiro 2ª divisão paraense paraibano paranaense paranaense 2ª divisão taça fpf paulista paulista a2 paulista a3 paulista a4 paulista feminino paulista 2ª divisão copa paulista pernambucano pernambucano a2 pernambucano a3 piauiense potiguar rondoniense roraimense sergipano sul-mato-grossense tocantinense rotatividade dos técnicos -- todas as tabelas jogos de hoje futebol internacional menu ge futebol internacional página principal seleção brasileira vai e vem do mercado vídeos Gato Mestre menu ge Gato Mestre Página Principal Estatísticas Análises Dicas Assistente de escalação Painel Gato Mestre parceiros estatísticas menu ge estatísticas espião estatístico central de palpites cartola menu ge cartola página principal escale seu time seja PRO betano cartola craque betano cartola feminino petrobras como jogar cartola dicas da rodada dicas do gato mestre estatísticas do gato mestre vídeos Seja Cartoleiro PRO baixe o app ge seleção brasileira vôlei menu ge vôlei página principal jogos de hoje mundial feminino mundial masculino liga das nações feminina liga das nações masculina tabela superliga feminina tabela superliga masculina basquete menu ge basquete página principal copa américa masculina lbf nba basquete nba página principal tabela jogos de hoje podcast ponte aérea nbb champions league das américas copa super 8 copa do mundo masculina pré-olímpico masculino pré-olímpico feminino nba menu ge nba página principal tabela jogos de hoje podcast ponte aérea tênis surfe menu ge surfe página principal ranking wsl wsl combate menu ge combate notícias assista agora assine Spaten Fight Night vídeos programação ativar dispositivo gerenciar conta família ajuda olimpiadas menu ge olimpiadas página principal quadro de medalhas agenda olímpica futebol feminino futebol masculino vôlei feminino vôlei masculino basquete masculino basquete feminino handebol feminino handebol masculino classificação Paris 2024 olympic channel paralimpíadas jogos pan-americanos parapan olimpíadas de inverno paralimpíadas de inverno premiere menu ge premiere assista agora ajude seu time programação central de ajuda ativar dispositivo gerenciar conta família termo de uso fórmula 1 menu ge fórmula 1 página principal calendário classificação nfl menu ge nfl principal tabela jogos de hoje esports menu ge esports página principal tabela cblol prêmio esports brasil eu atleta menu ge eu atleta página principal corridas e eventos equipamentos e acessórios nutrição saúde treinos saúde mental outros esportes menu ge outros esportes atletismo basquete outros esportes basquete página principal jogos de hoje nba basquete nba página principal agenda classificação estatísticas nba estatísticas individual times líderes da temporada jogadores placar playoffs times podcast ponte aérea nbb lbf champions league américas pré-olímpico masculino pré-olímpico feminino copa do mundo masculina copa super 8 futebol americano outros esportes futebol americano página principal tabela da nfl podcast primeira descida futsal outros esportes futsal página principal lnf copa do mundo feminina ginástica artística outros esportes ginástica artística página principal copa do mundo de ginástica ginástica rítmica judô mma outros esportes mma página principal combate play motor outros esportes motor página principal fórmula 1 motor fórmula 1 página principal classificação e calendário fórmula 2 fórmula e motovelocidade stock car w series natação skate outros esportes skate página principal SLS STU surfe tênis outros esportes tênis página principal rio open vôlei outros esportes vôlei página principal tabela superliga masculina tabela superliga feminina podcasts especial publicitário menu ge especial publicitário spaten fight night s.a.b - brahma Libertadores | Haleon Libertadores | Sportingbet Libertadores | Pagbank Libertadores | Hyundai na tv menu ge na tv tv globo na tv tv globo globo esporte esporte espetacular segue o jogo verão espetacular sportv na tv sportv página principal programas sportv programas bem, amigos! boleiragem grande círculo hello la redação sportv seleção sportv sportv news tá na área troca de passes programação combate na tv combate assista agora programação assine premiere seu estado na tv seu estado centro-oeste seu estado centro-oeste distrito federal goiás mato grosso mato grosso do sul nordeste seu estado nordeste alagoas bahia ceará maranhão paraíba pernambuco nordeste pernambuco página principal caruaru e região petrolina e região piauí rio grande do norte sergipe norte seu estado norte acre amapá amazonas pará norte pará página principal santarém e região rondônia roraima tocantins sudeste seu estado sudeste espírito santo minas gerais sudeste minas gerais página principal grande minas e vales sul de minas triângulo e alto paranaíba zona da mata e centro-oeste rio de janeiro sudeste rio de janeiro página principal serra, lagos e norte sul e costa verde são paulo sudeste são paulo página principal bauru, itapetininga, rio preto e sorocaba campinas e região presidente prudente  e região mogi e suzano ribeirão preto e região santos e região vale do paraíba e região sul seu estado sul paraná rio grande do sul santa catarina princípios editoriais princípios editoriais Acesse sua conta ou cadastre-se grátis grupo globo sair da conta Nós usamos cookies e outras tecnologias semelhantes para melhorar a sua experiência em nossos serviços, personalizar publicidade e recomendar conteúdo de seu interesse. Ao utilizar nossos serviços, você está ciente dessa funcionalidade. Informamos ainda que atualizamos nosso Aviso de Privacidade. . Conheça nosso Portal da Privacidade e veja o nosso novo Aviso. Prosseguir', name='extract_text', id='bde10ccd-f523-4aa4-9f0e-376ce5ec7e5c', tool_call_id='31jja08b7'),\n",
       "  AIMessage(content='O quinto colocado do campeonato brasileiro hoje é o Botafogo.', additional_kwargs={}, response_metadata={'token_usage': {'completion_tokens': 12, 'prompt_tokens': 4189, 'total_tokens': 4201, 'completion_time': 0.027378841, 'prompt_time': 0.124860141, 'queue_time': 0.277041481, 'total_time': 0.152238982}, 'model_name': 'meta-llama/llama-4-scout-17b-16e-instruct', 'system_fingerprint': 'fp_37da608fc1', 'service_tier': 'on_demand', 'finish_reason': 'stop', 'logprobs': None}, id='run--7a32a41e-a7d0-41a4-855b-99a6d70461c0-0', usage_metadata={'input_tokens': 4189, 'output_tokens': 12, 'total_tokens': 4201})]}"
      ]
     },
     "execution_count": 21,
     "metadata": {},
     "output_type": "execute_result"
    }
   ],
   "source": [
    "results"
   ]
  },
  {
   "cell_type": "code",
   "execution_count": null,
   "id": "e37f3fcc",
   "metadata": {},
   "outputs": [],
   "source": []
  },
  {
   "cell_type": "code",
   "execution_count": null,
   "id": "2c855260",
   "metadata": {},
   "outputs": [],
   "source": []
  }
 ],
 "metadata": {
  "kernelspec": {
   "display_name": "langgraph-course-p2dPCP21-py3.13",
   "language": "python",
   "name": "python3"
  },
  "language_info": {
   "codemirror_mode": {
    "name": "ipython",
    "version": 3
   },
   "file_extension": ".py",
   "mimetype": "text/x-python",
   "name": "python",
   "nbconvert_exporter": "python",
   "pygments_lexer": "ipython3",
   "version": "3.13.5"
  }
 },
 "nbformat": 4,
 "nbformat_minor": 5
}
