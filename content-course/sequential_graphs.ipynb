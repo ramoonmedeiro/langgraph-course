{
 "cells": [
  {
   "cell_type": "markdown",
   "id": "a0b2c514",
   "metadata": {},
   "source": [
    "# Grafos sequenciais\n",
    "\n",
    "A ideia aqui é criar dois nós sequenciais.\n",
    "Para esta tarefa iremos pedir para uma LLM discutir sobre algum tópico e \n",
    "o segundo nó irá verificar qual argumento venceu"
   ]
  },
  {
   "cell_type": "markdown",
   "id": "9dd8f45c",
   "metadata": {},
   "source": [
    "# Criando estrutura do grafo"
   ]
  },
  {
   "cell_type": "code",
   "execution_count": 19,
   "id": "f801b438",
   "metadata": {},
   "outputs": [],
   "source": [
    "from langchain_groq import ChatGroq\n",
    "from typing import TypedDict\n",
    "from langgraph.graph import StateGraph\n",
    "\n",
    "\n",
    "class State(TypedDict):\n",
    "    model: ChatGroq\n",
    "    response_first_node: str\n",
    "    response_second_node: str\n",
    "    topic: str\n",
    "\n",
    "graph_builder = StateGraph(State)"
   ]
  },
  {
   "cell_type": "markdown",
   "id": "04939857",
   "metadata": {},
   "source": [
    "# Criando nós"
   ]
  },
  {
   "cell_type": "markdown",
   "id": "01a38ed2",
   "metadata": {},
   "source": [
    "### Primeiro nó"
   ]
  },
  {
   "cell_type": "code",
   "execution_count": 20,
   "id": "11e74eb4",
   "metadata": {},
   "outputs": [],
   "source": [
    "PRIMEIRO_NODE_PROMPT = \"\"\"\n",
    "Você irá receber um tópico e deverá argumentar as duas defesas do tópico dado\n",
    "\n",
    "------\n",
    "Tópico\n",
    "------\n",
    "\n",
    "{topic}\n",
    "\"\"\""
   ]
  },
  {
   "cell_type": "code",
   "execution_count": 21,
   "id": "a9cec48d",
   "metadata": {},
   "outputs": [],
   "source": [
    "def primeiro_node(state: State) -> State:\n",
    "    model = state[\"model\"]\n",
    "    topic = state[\"topic\"]\n",
    "    prompt = PRIMEIRO_NODE_PROMPT.format(topic=topic)\n",
    "\n",
    "    response_llm = model.invoke(prompt)\n",
    "    return {\n",
    "        \"response_first_node\": response_llm\n",
    "    }\n",
    "    \n",
    "     "
   ]
  },
  {
   "cell_type": "markdown",
   "id": "f839ad0b",
   "metadata": {},
   "source": [
    "### Segundo nó"
   ]
  },
  {
   "cell_type": "code",
   "execution_count": 22,
   "id": "52ed87ab",
   "metadata": {},
   "outputs": [],
   "source": [
    "SEGUNDO_NODE_PROMPT = \"\"\"\n",
    "Você irá receber um argumento a respeito de um tópico,\n",
    "e deverá decidir qual foi a melhor defesa a respeito do tópico\n",
    "\n",
    "Tópico: {topic}\n",
    "Argumento: {argument}\n",
    "\"\"\""
   ]
  },
  {
   "cell_type": "code",
   "execution_count": 23,
   "id": "4403bf44",
   "metadata": {},
   "outputs": [],
   "source": [
    "def segundo_node(state: State) -> State:\n",
    "    topic = state[\"topic\"]\n",
    "    model = state[\"model\"]\n",
    "    response_primeiro_node = state[\"response_first_node\"]\n",
    "    prompt = SEGUNDO_NODE_PROMPT.format(topic=topic, argument=response_primeiro_node)\n",
    "    response = model.invoke(prompt)\n",
    "    return {\n",
    "        \"response_second_node\": response\n",
    "    }"
   ]
  },
  {
   "cell_type": "markdown",
   "id": "92eab9aa",
   "metadata": {},
   "source": [
    "# Criando estrutura do grafo"
   ]
  },
  {
   "cell_type": "code",
   "execution_count": 24,
   "id": "b7fbe5d3",
   "metadata": {},
   "outputs": [],
   "source": [
    "from langgraph.graph import START, END\n",
    "\n",
    "# Adição de nós\n",
    "graph_builder.add_node(\"primeiro_node\", primeiro_node)\n",
    "graph_builder.add_node(\"segundo_node\", segundo_node)\n",
    "\n",
    "# Adição de edges\n",
    "graph_builder.add_edge(START, \"primeiro_node\")\n",
    "graph_builder.add_edge(\"primeiro_node\", \"segundo_node\")\n",
    "graph_builder.add_edge(\"segundo_node\", END)\n",
    "\n",
    "graph_compiled = graph_builder.compile()"
   ]
  },
  {
   "cell_type": "code",
   "execution_count": 25,
   "id": "6499b357",
   "metadata": {},
   "outputs": [
    {
     "data": {
      "image/png": "[encoded data removed]",
      "text/plain": [
       "<IPython.core.display.Image object>"
      ]
     },
     "metadata": {},
     "output_type": "display_data"
    }
   ],
   "source": [
    "from IPython.display import display, Image\n",
    "\n",
    "display(Image(graph_compiled.get_graph().draw_mermaid_png()))"
   ]
  },
  {
   "cell_type": "markdown",
   "id": "0dd972fb",
   "metadata": {},
   "source": [
    "# Rodando grafo"
   ]
  },
  {
   "cell_type": "code",
   "execution_count": 15,
   "id": "9fe8b968",
   "metadata": {},
   "outputs": [],
   "source": [
    "model = ChatGroq(model=\"openai/gpt-oss-120b\", temperature=0, max_tokens=3000)"
   ]
  },
  {
   "cell_type": "code",
   "execution_count": 26,
   "id": "4f3b101f",
   "metadata": {},
   "outputs": [],
   "source": [
    "state = {\n",
    "    \"model\": model,\n",
    "    \"topic\": \"Alain Prost vs Ayrton Senna\",\n",
    "    \"response_first_node\": \"\",\n",
    "    \"response_second_node\": \"\"\n",
    "}\n",
    "\n",
    "response_final = graph_compiled.invoke(state)"
   ]
  },
  {
   "cell_type": "code",
   "execution_count": 29,
   "id": "7a6ec7ad",
   "metadata": {},
   "outputs": [
    {
     "name": "stdout",
     "output_type": "stream",
     "text": [
      "**Alain Prost vs Ayrton Senna – Defesas de Cada Lado**\n",
      "\n",
      "---\n",
      "\n",
      "## 1️⃣ Defesa de Alain Prost – “O Professor”\n",
      "\n",
      "| **Argumento** | **Detalhes e Evidências** |\n",
      "|---|---|\n",
      "| **Consistência e Inteligência Estratégica** | - Campeão mundial em 1985, 1986, 1989 e 1993 (4 títulos). <br> - Maior número de pontos em temporadas completas (ex.: 1993: 112 pts, recorde da época). <br> - Conhecido por “pilotar a corrida”, economizando pneus, combustível e escolhendo o momento certo para atacar. |\n",
      "| **Taxa de Pontos por Corrida** | - Média de pontos por corrida superior a 6,5 ao longo da carreira (considerando o sistema de pontuação da época). <br> - Em 1985, 13 pódios em 16 corridas (81 % de presença no pódio). |\n",
      "| **Versatilidade em Diferentes Máquinas** | - Venceu com McLaren, Renault, Ferrari e Williams, demonstrando capacidade de adaptar-se a diferentes chassis, motores e filosofias técnicas. <br> - Primeiro piloto a vencer com três fabricantes diferentes. |\n",
      "| **Domínio Técnico e Desenvolvimento** | - Atuou como “engenheiro piloto”, colaborando diretamente no desenvolvimento de chassis e eletrônica. <br> - Seu feedback foi crucial para a evolução do McLaren MP4/2 e do Williams FW14B. |\n",
      "| **Gestão de Pressão e Conflitos** | - Manteve a calma em situações de alta tensão (ex.: disputa com Senna em 1988, 1990). <br> - Capaz de negociar com a equipe e manter foco nos objetivos de campeonato, mesmo quando o ambiente interno era hostil. |\n",
      "| **Recordes de Qualificação** | - 33 pole positions (segundo lugar na história na época de sua aposentadoria). <br> - Demonstrou velocidade pura, mas sempre equilibrada com a estratégia de corrida. |\n",
      "| **Legado de “Piloto Completo”** | - Reconhecido como o primeiro “piloto‑engenheiro” da Fórmula 1 moderna. <br> - Influenciou gerações posteriores (por exemplo, Fernando Alonso, Kimi Räikkönen). |\n",
      "\n",
      "### Resumo da Defesa de Prost\n",
      "Alain Prost foi o piloto que soube transformar talento bruto em resultados consistentes ao longo de toda a sua carreira. Sua inteligência tática, capacidade de desenvolver o carro e a habilidade de pontuar em quase todas as corridas o tornaram o “professor” da Fórmula 1, capaz de vencer campeonatos mesmo quando não tinha o carro mais rápido do grid.\n",
      "\n",
      "---\n",
      "\n",
      "## 2️⃣ Defesa de Ayrton Senna – “O Mago”\n",
      "\n",
      "| **Argumento** | **Detalhes e Evidências** |\n",
      "|---|---|\n",
      "| **Velocidade Bruta e Domínio nas Qualificações** | - 65 pole positions (recorde absoluto até 2011). <br> - Média de 1,03 pole por corrida em 1988 (12 poles em 16 GP). |\n",
      "| **Performance em Circuitos de Rua e Molhados** | - Tricampeão em Mônaco (1987, 1989, 1990) – o circuito mais exigente em termos de precisão e coragem. <br> - Venceu 6 das 7 corridas em condições de chuva (ex.: 1993 European GP, 1991 Australian GP). |\n",
      "| **Carisma e Inspiração** | - Figura icônica que transcendeu o esporte, tornando‑se símbolo de paixão, superação e nacionalismo brasileiro. <br> - Seu estilo de pilotagem “de coração” inspirou fãs e pilotos ao redor do mundo. |\n",
      "| **Capacidade de Extrair o Máximo do Carro** | - Em 1991, venceu o GP da Hungria com um carro considerado inferior ao da McLaren, demonstrando habilidade de “sentir” o limite do carro. <br> - Em 1993, venceu o GP de Donington (UK) em condições de chuva, considerado um dos melhores lapses da história. |\n",
      "| **Coragem e Determinação** | - Nunca recuou de ultrapassagens arriscadas; famoso o “duelo” com Prost em Suzuka 1989, onde ultrapassou o rival em curva de alta velocidade. <br> - Persistiu mesmo após acidentes graves (ex.: 1994 San Marino, onde sofreu um grave acidente, mas continuou competindo). |\n",
      "| **Contribuição para a Segurança** | - Após sua morte, a FIA implementou mudanças de segurança (ex.: cockpit mais resistente, melhorias nos sistemas de retenção). <br> - Senna foi um dos primeiros a exigir melhorias nos padrões de segurança, influenciando a evolução do esporte. |\n",
      "| **Legado Humanitário** | - Fundou o Instituto Ayrton Senna, que até hoje beneficia milhões de crianças brasileiras com educação e desenvolvimento. <br> - Seu legado vai além das pistas, reforçando a imagem do piloto como agente de mudança social. |\n",
      "| **Recorde de Vitórias em Corridas de Alta Pressão** | - 41 vitórias em 161 GP (25,5 % de taxa de vitória). <br> - 19 vitórias em 30 corridas de alta pressão (pódios em 23 GP consecutivos entre 1988‑1993). |\n",
      "\n",
      "### Resumo da Defesa de Senna\n",
      "Ayrton Senna foi o piloto que personificou a pura emoção da velocidade. Seu talento natural nas qualificações, a capacidade de dominar pistas molhadas e de rua, e a coragem de desafiar limites fizeram dele um ícone eterno. Além das estatísticas, Senna deixou um legado humano e de segurança que transformou a Fórmula 1 para sempre.\n",
      "\n",
      "---\n",
      "\n",
      "## 📊 Comparativo Rápido (dados até 1994)\n",
      "\n",
      "| **Critério** | **Alain Prost** | **Ayrton Senna** |\n",
      "|---|---|---|\n",
      "| Campeonatos Mundiais | 4 (85, 86, 89, 93) | 3 (88, 91, 93) |\n",
      "| Vitórias | 51 | 41 |\n",
      "| Pole Positions | 33 | 65 |\n",
      "| Pódios | 106 | 80 |\n",
      "| Média de Pontos/GP* | ~6,5 | ~5,9 |\n",
      "| Melhor desempenho em chuva | 4 vitórias | 6 vitórias |\n",
      "| Melhor desempenho em Mônaco | 2 vitórias | 3 vitórias |\n",
      "| Contribuição técnica | Desenvolvimento de chassis e estratégia | Feedback extremo, “sentir” o carro |\n",
      "| Legado fora das pistas | “Piloto‑engenheiro”, influência técnica | Humanitário, segurança, ícone cultural |\n",
      "\n",
      "\\*Média calculada com base no sistema de pontuação vigente nas respectivas temporadas.\n",
      "\n",
      "---\n",
      "\n",
      "## 🏁 Conclusão – Por Que Cada Um Merece a Defesa\n",
      "\n",
      "- **Prost**: representa a excelência da estratégia, consistência e inteligência de corrida. Seu domínio em diferentes equipes e sua capacidade de transformar um carro “bom” em um campeão o tornam o modelo do piloto “completo” e racional.\n",
      "\n",
      "- **Senna**: encarna a paixão, a velocidade pura e a coragem quase mítica. Seu talento nas qualificações, domínio em condições adversas e impacto humano/social fazem dele o símbolo da emoção e da alma da Fórmula 1.\n",
      "\n",
      "**Portanto, ao defender cada lado, reconhecemos que a grandeza da Fórmula 1 nasce da coexistência desses dois perfis: o cérebro (Prost) e o coração (Senna).** Cada um, à sua maneira, elevou o esporte a patamares que ainda hoje são referência para pilotos, equipes e fãs.\n"
     ]
    }
   ],
   "source": [
    "# Primeira resposta\n",
    "\n",
    "print(response_final[\"response_first_node\"].content)"
   ]
  },
  {
   "cell_type": "code",
   "execution_count": 30,
   "id": "387821ed",
   "metadata": {},
   "outputs": [
    {
     "name": "stdout",
     "output_type": "stream",
     "text": [
      "**Análise das duas defesas**\n",
      "\n",
      "| Critério | Defesa de Alain Prost | Defesa de Ayrton Senna |\n",
      "|----------|----------------------|------------------------|\n",
      "| **Clareza e estrutura** | Apresenta uma tabela bem organizada, com tópicos claros (consistência, taxa de pontos, versatilidade, etc.). Cada argumento é acompanhado de evidências numéricas e exemplos concretos. | Também usa tabela, mas mistura aspectos de performance com elementos de legado “humanitário”. A estrutura é boa, porém menos focada em métricas puras de desempenho. |\n",
      "| **Uso de dados objetivos** | Usa números de campeonatos, vitórias, poles, média de pontos por corrida, recordes de pontuação e exemplos de desenvolvimento técnico. | Usa números de poles, vitórias, desempenho em chuva e em Mônaco, mas inclui mais argumentos qualitativos (carisma, inspiração, legado social). |\n",
      "| **Argumentação persuasiva** | Concentra‑se em como a inteligência estratégica e a capacidade de adaptar‑se a diferentes carros transformam Prost no “piloto‑engenheiro” ideal para vencer campeonatos. Cada ponto reforça a ideia de consistência e eficiência. | Apela ao aspecto emocional (“coração”, “magia”) e ao impacto fora das pistas, além de destacar a velocidade pura e a coragem em condições extremas. A persuasão vem mais da narrativa épica do que de métricas. |\n",
      "| **Equilíbrio entre performance e legado** | Foca quase que exclusivamente no desempenho dentro da pista e na contribuição técnica, mantendo o discurso objetivo. | Mistura desempenho esportivo com legado humanitário e de segurança, o que enriquece a defesa, mas dilui o foco na comparação direta de habilidades de pilotagem. |\n",
      "| **Originalidade** | Destaca o papel pioneiro de Prost como “piloto‑engenheiro”, algo menos abordado em discussões populares. | Reforça o mito de Senna como “Mago”, mas esse ponto já é amplamente conhecido; o diferencial está nas histórias de chuva e de Mônaco. |\n",
      "| **Coerência interna** | Não há contradições; cada ponto complementa o anterior, culminando em um resumo que reforça a tese central. | Alguns pontos (ex.: “persistiu após acidentes graves”) são mais biográficos que defensivos, o que pode enfraquecer a linha argumentativa. |\n",
      "\n",
      "**Qual defesa se sobressai?**\n",
      "\n",
      "A defesa de **Alain Prost** se destaca como a **melhor defesa** pelos seguintes motivos:\n",
      "\n",
      "1. **Objetividade e consistência** – A argumentação baseia‑se quase que exclusivamente em dados mensuráveis (títulos, pontos, poles, pódios, recordes de desenvolvimento). Isso confere maior credibilidade ao leitor que busca uma avaliação técnica.\n",
      "\n",
      "2. **Estrutura lógica** – Cada linha da tabela segue um padrão (argumento → evidência), facilitando a leitura e a comparação direta entre os pontos apresentados.\n",
      "\n",
      "3. **Foco no diferencial competitivo** – Ao enfatizar a capacidade de adaptar‑se a diferentes chassis, a inteligência estratégica e o papel de “piloto‑engenheiro”, a defesa demonstra claramente por que Prost seria o candidato mais “completo” para vencer campeonatos, independentemente do carro.\n",
      "\n",
      "4. **Menor dependência de apelo emocional** – Embora o carisma de Senna seja inegável, uma defesa que se apoia principalmente em emoções pode ser menos persuasiva em um debate objetivo. A defesa de Prost mantém o discurso no âmbito da performance esportiva, que é o critério central do tópico.\n",
      "\n",
      "5. **Conclusão bem amarrada** – O resumo final sintetiza todos os pontos e reforça a tese de forma concisa, sem introduzir novos argumentos.\n",
      "\n",
      "**Conclusão**\n",
      "\n",
      "Embora a defesa de Ayrton Senna seja rica em narrativa e destaque aspectos humanos e inspiradores que vão além das pistas, a defesa de Alain Prost apresenta uma argumentação mais rigorosa, baseada em métricas claras e em uma lógica de causa‑efeito que demonstra, de forma inequívoca, por que Prost pode ser considerado o piloto mais completo e estrategicamente superior. Portanto, **a defesa de Alain Prost é a melhor defesa do tópico**.\n"
     ]
    }
   ],
   "source": [
    "# Segunda resposta\n",
    "\n",
    "print(response_final[\"response_second_node\"].content)"
   ]
  }
 ],
 "metadata": {
  "kernelspec": {
   "display_name": "langgraph-course-p2dPCP21-py3.13",
   "language": "python",
   "name": "python3"
  },
  "language_info": {
   "codemirror_mode": {
    "name": "ipython",
    "version": 3
   },
   "file_extension": ".py",
   "mimetype": "text/x-python",
   "name": "python",
   "nbconvert_exporter": "python",
   "pygments_lexer": "ipython3",
   "version": "3.13.5"
  }
 },
 "nbformat": 4,
 "nbformat_minor": 5
}
