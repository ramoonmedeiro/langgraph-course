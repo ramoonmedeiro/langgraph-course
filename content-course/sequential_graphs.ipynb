{
 "cells": [
  {
   "cell_type": "markdown",
   "id": "a0b2c514",
   "metadata": {},
   "source": [
    "# Grafos sequenciais\n",
    "\n",
    "A ideia aqui é criar dois nós sequenciais.\n",
    "Para esta tarefa iremos pedir para uma LLM discutir sobre algum tópico e \n",
    "o segundo nó irá verificar qual argumento venceu"
   ]
  },
  {
   "cell_type": "markdown",
   "id": "9dd8f45c",
   "metadata": {},
   "source": [
    "# Criando estrutura do grafo"
   ]
  },
  {
   "cell_type": "code",
   "execution_count": 1,
   "id": "f801b438",
   "metadata": {},
   "outputs": [],
   "source": [
    "from langchain.chat_models import init_chat_model\n",
    "from typing import TypedDict\n",
    "from langgraph.graph import StateGraph\n",
    "\n",
    "\n",
    "class State(TypedDict):\n",
    "    model: init_chat_model\n",
    "    response_first_node: str\n",
    "    response_second_node: str\n",
    "    topic: str\n",
    "\n",
    "graph_builder = StateGraph(State)"
   ]
  },
  {
   "cell_type": "markdown",
   "id": "04939857",
   "metadata": {},
   "source": [
    "# Criando nós"
   ]
  },
  {
   "cell_type": "markdown",
   "id": "01a38ed2",
   "metadata": {},
   "source": [
    "### Primeiro nó"
   ]
  },
  {
   "cell_type": "code",
   "execution_count": 2,
   "id": "11e74eb4",
   "metadata": {},
   "outputs": [],
   "source": [
    "PRIMEIRO_NODE_PROMPT = \"\"\"\n",
    "Você irá receber um tópico e deverá argumentar as duas defesas do tópico dado\n",
    "\n",
    "------\n",
    "Tópico\n",
    "------\n",
    "\n",
    "{topic}\n",
    "\"\"\""
   ]
  },
  {
   "cell_type": "code",
   "execution_count": 3,
   "id": "a9cec48d",
   "metadata": {},
   "outputs": [],
   "source": [
    "def primeiro_node(state: State) -> State:\n",
    "    model = state[\"model\"]\n",
    "    topic = state[\"topic\"]\n",
    "    prompt = PRIMEIRO_NODE_PROMPT.format(topic=topic)\n",
    "\n",
    "    response_llm = model.invoke(prompt)\n",
    "    return {\n",
    "        \"response_first_node\": response_llm\n",
    "    }\n",
    "    \n",
    "     "
   ]
  },
  {
   "cell_type": "markdown",
   "id": "f839ad0b",
   "metadata": {},
   "source": [
    "### Segundo nó"
   ]
  },
  {
   "cell_type": "code",
   "execution_count": 4,
   "id": "52ed87ab",
   "metadata": {},
   "outputs": [],
   "source": [
    "SEGUNDO_NODE_PROMPT = \"\"\"\n",
    "Você irá receber um argumento a respeito de um tópico,\n",
    "e deverá decidir qual foi a melhor defesa a respeito do tópico\n",
    "\n",
    "Tópico: {topic}\n",
    "Argumento: {argument}\n",
    "\"\"\""
   ]
  },
  {
   "cell_type": "code",
   "execution_count": 5,
   "id": "4403bf44",
   "metadata": {},
   "outputs": [],
   "source": [
    "def segundo_node(state: State) -> State:\n",
    "    topic = state[\"topic\"]\n",
    "    model = state[\"model\"]\n",
    "    response_primeiro_node = state[\"response_first_node\"]\n",
    "    prompt = SEGUNDO_NODE_PROMPT.format(topic=topic, argument=response_primeiro_node)\n",
    "    response = model.invoke(prompt)\n",
    "    return {\n",
    "        \"response_second_node\": response\n",
    "    }"
   ]
  },
  {
   "cell_type": "markdown",
   "id": "92eab9aa",
   "metadata": {},
   "source": [
    "# Criando estrutura do grafo"
   ]
  },
  {
   "cell_type": "code",
   "execution_count": 6,
   "id": "b7fbe5d3",
   "metadata": {},
   "outputs": [],
   "source": [
    "from langgraph.graph import START, END\n",
    "\n",
    "# Adição de nós\n",
    "graph_builder.add_node(\"primeiro_node\", primeiro_node)\n",
    "graph_builder.add_node(\"segundo_node\", segundo_node)\n",
    "\n",
    "# Adição de edges\n",
    "graph_builder.add_edge(START, \"primeiro_node\")\n",
    "graph_builder.add_edge(\"primeiro_node\", \"segundo_node\")\n",
    "graph_builder.add_edge(\"segundo_node\", END)\n",
    "\n",
    "graph_compiled = graph_builder.compile()"
   ]
  },
  {
   "cell_type": "code",
   "execution_count": 7,
   "id": "6499b357",
   "metadata": {},
   "outputs": [
    {
     "data": {
      "image/png": "[encoded data removed]",
      "text/plain": [
       "<IPython.core.display.Image object>"
      ]
     },
     "metadata": {},
     "output_type": "display_data"
    }
   ],
   "source": [
    "from IPython.display import display, Image\n",
    "\n",
    "display(Image(graph_compiled.get_graph().draw_mermaid_png()))"
   ]
  },
  {
   "cell_type": "markdown",
   "id": "0dd972fb",
   "metadata": {},
   "source": [
    "# Rodando grafo"
   ]
  },
  {
   "cell_type": "code",
   "execution_count": 8,
   "id": "9fe8b968",
   "metadata": {},
   "outputs": [],
   "source": [
    "model = init_chat_model(model=\"groq:openai/gpt-oss-120b\", temperature=0, max_tokens=3000)"
   ]
  },
  {
   "cell_type": "code",
   "execution_count": 9,
   "id": "4f3b101f",
   "metadata": {},
   "outputs": [],
   "source": [
    "state = {\n",
    "    \"model\": model,\n",
    "    \"topic\": \"Alain Prost vs Ayrton Senna\",\n",
    "    \"response_first_node\": \"\",\n",
    "    \"response_second_node\": \"\"\n",
    "}\n",
    "\n",
    "response_final = graph_compiled.invoke(state)"
   ]
  },
  {
   "cell_type": "code",
   "execution_count": 10,
   "id": "7a6ec7ad",
   "metadata": {},
   "outputs": [
    {
     "name": "stdout",
     "output_type": "stream",
     "text": [
      "**Alain Prost vs Ayrton Senna – Defesas de Cada Lado**  \n",
      "*(Apresentamos os principais argumentos que sustentam a superioridade de cada piloto, sem pretender eleger um “vencedor” definitivo. Cada defesa se baseia em estatísticas, estilo de condução, impacto no esporte e legado histórico.)*  \n",
      "\n",
      "---\n",
      "\n",
      "## 1️⃣ Defesa de Alain Prost – “O Professor”\n",
      "\n",
      "| Argumento | Detalhes e Evidências |\n",
      "|-----------|-----------------------|\n",
      "| **Consistência e Estratégia** | Prost era famoso por sua abordagem quase “matemática” das corridas. Ele sabia quando preservar os pneus, quando poupar o motor e como maximizar pontos ao longo da temporada. Essa mentalidade lhe rendeu **4 Campeonatos Mundiais** (1985, 1986, 1989, 1993) e **51 vitórias**, o que o coloca entre os maiores vencedores da história da F1. |\n",
      "| **Taxa de Pontos por Corrida** | Em 1986, Prost marcou **87 pontos** em 16 corridas (média de 5,44 pontos por prova), número impressionante para a época, quando o sistema de pontuação premiava apenas os 6 primeiros. Sua capacidade de pontuar regularmente, mesmo quando não vencia, demonstra um domínio de longo prazo. |\n",
      "| **Domínio Técnico** | Trabalhou estreitamente com engenheiros (notadamente com a equipe McLaren e depois com a Williams). Sua habilidade de desenvolver o carro, dar feedback preciso e influenciar a evolução da aerodinâmica e da eletrônica foi crucial para o avanço tecnológico da F1 nos anos 80‑90. |\n",
      "| **Versatilidade em Diferentes Equipamentos** | Conquistou títulos com duas equipes diferentes (McLaren e Williams) e ainda foi vice‑campeão com a Renault (1983) e a Ferrari (1990). Essa adaptabilidade prova que seu talento transcende a qualidade do carro. |\n",
      "| **Gestão de Pressão e Rivalidades** | Mesmo enfrentando a rivalidade mais intensa da história (com Senna), Prost manteve a calma e soube usar a pressão a seu favor, evitando erros que custariam pontos. Seu “cérebro frio” foi decisivo nas corridas de alta tensão, como o GP da Austrália de 1986, onde venceu sem precisar de risco excessivo. |\n",
      "| **Legado como Embaixador da Segurança** | Após se aposentar, Prost foi presidente da FIA (1993‑1997) e trabalhou para melhorar a segurança dos pilotos, contribuindo para a evolução do esporte além das pistas. |\n",
      "\n",
      "**Resumo da defesa:**  \n",
      "Alain Prost é o piloto que combina talento puro com inteligência estratégica. Sua capacidade de transformar cada corrida em uma oportunidade de pontuar, sua influência no desenvolvimento técnico dos carros e sua consistência ao longo de diferentes eras o tornam, para muitos, o “piloto mais completo” da história da Fórmula 1.\n",
      "\n",
      "---\n",
      "\n",
      "## 2️⃣ Defesa de Ayrton Senna – “O Mago”\n",
      "\n",
      "| Argumento | Detalhes e Evidências |\n",
      "|-----------|-----------------------|\n",
      "| **Velocidade Bruta e Qualidade de Qualificação** | Senna detém **65 pole positions** (recorde que perdurou por 12 anos). Seu domínio nas sessões de qualificação era quase sobrenatural; ele conseguia extrair o máximo de aderência dos pneus e do carro, muitas vezes superando a própria performance do carro. |\n",
      "| **Domínio em Molhados e em Circuitos Técnicos** | Senna era reconhecido como o “rei da chuva”. Corridas como o GP de Mônaco 1984 (primeira vitória) e o GP da Europa de 1993 (vencedor em condições de pista escorregadia) demonstram sua capacidade de controlar o carro quando outros pilotos simplesmente “deslizam”. |\n",
      "| **Carisma e Inspiração Nacional** | Senna transcendeu o esporte, tornando‑se um ícone cultural no Brasil e um símbolo de superação. Seu carisma, a paixão que demonstrava ao levantar o troféu e seu compromisso com causas sociais (fundação que ajudou milhares de crianças) criaram um legado que vai muito além das estatísticas. |\n",
      "| **Coragem e Espírito de Luta** | Em muitas corridas, Senna arriscava ultrapassagens que poucos ousariam. O famoso duelo com Alain Prost no GP de Japão de 1989 (onde ambos colidiram) e a vitória épica no GP de Mônaco de 1992 (onde ultrapassou o líder com 30 voltas restantes) são exemplos de sua determinação de nunca desistir. |\n",
      "| **Três Campeonatos Mundiais** | Embora tenha menos títulos que Prost, Senna conquistou **3 campeonatos** (1988, 1990, 1991) em uma era extremamente competitiva, enfrentando equipes como McLaren, Williams e Ferrari, e ainda assim mantendo um nível de excelência. |\n",
      "| **Influência na Evolução da Segurança** | A trágica morte de Senna em 1994 foi o ponto de virada para a segurança na F1. Seu legado impulsionou a criação de normas mais rígidas, como o HANS, a melhoria dos circuitos e a introdução de dispositivos de proteção que salvaram inúmeras vidas. |\n",
      "| **Performance em Circuitos de Alta Velocidade** | Senna venceu o GP de Mônaco (6 vezes), o GP da Bélgica (2 vezes) e o GP da Grã‑Bretanha (2 vezes), mostrando que sua velocidade não se limitava a pistas técnicas; ele também dominava circuitos de alta velocidade, onde a aerodinâmica e a potência são cruciais. |\n",
      "\n",
      "**Resumo da defesa:**  \n",
      "Ayrton Senna representa a pura emoção da Fórmula 1: velocidade incomparável, coragem inabalável e um carisma que transformou o piloto em mito. Sua capacidade de extrair o máximo de um carro em condições adversas, sua paixão contagiante e seu impacto social e de segurança fazem dele, para muitos, o maior piloto de todos os tempos.\n",
      "\n",
      "---\n",
      "\n",
      "## 📌 Conclusão – Por que o debate continua vivo?\n",
      "\n",
      "- **Estatísticas vs. Emoção:** Prost oferece números consistentes e uma abordagem racional; Senna oferece momentos de pura magia e inspiração emocional.  \n",
      "- **Estilo de Pilotagem:** Prost era o “calculista”, Senna o “instintivo”. Cada estilo tem seus admiradores.  \n",
      "- **Legado Técnico vs. Legado Humano:** Prost influenciou a engenharia e a gestão da F1; Senna mudou a percepção pública do esporte e impulsionou a segurança.  \n",
      "\n",
      "O “vencedor” do duelo depende do que cada fã valoriza mais: a perfeição estratégica ou a paixão arrebatadora. O que é indiscutível é que ambos elevaram a Fórmula 1 a patamares jamais vistos, e o debate entre Prost e Senna continuará a inspirar novas gerações de pilotos e torcedores.  \n",
      "\n",
      "---  \n",
      "\n",
      "**Próximos passos para quem quiser aprofundar:**  \n",
      "1. **Assistir às corridas clássicas** (GP de Mônaco 1984, GP da Austrália 1986, GP do Japão 1990).  \n",
      "2. **Ler biografias** – “*Alain Prost: The Professor*” (por Alain Prost) e “*Senna*” (por Tom Rubython).  \n",
      "3. **Comparar estatísticas avançadas** (tempo de volta médio, taxa de conversão de pole em vitória, etc.) usando bases de dados como *Forix* ou *Ergast*.  \n",
      "\n",
      "Que o debate seja sempre saudável e que a memória desses dois gigantes continue a brilhar nos anais da Fórmula 1! 🚗💨🏁\n"
     ]
    }
   ],
   "source": [
    "# Primeira resposta\n",
    "\n",
    "print(response_final[\"response_first_node\"].content)"
   ]
  },
  {
   "cell_type": "code",
   "execution_count": 11,
   "id": "387821ed",
   "metadata": {},
   "outputs": [
    {
     "name": "stdout",
     "output_type": "stream",
     "text": [
      "**Qual defesa se sobressai? – Análise comparativa entre a defesa de Alain Prost e a de Ayrton Senna**\n",
      "\n",
      "Depois de ler atentamente as duas apresentações, fica claro que ambas são bem estruturadas, trazem dados relevantes e abordam aspectos técnicos, humanos e de legado. Contudo, ao avaliar a **qualidade argumentativa**, a **coerência interna**, a **profundidade das evidências** e a **capacidade de convencer um leitor neutro**, a **defesa de Alain Prost – “O Professor”** se destaca como a **melhor defesa**. A seguir, explico os motivos.\n",
      "\n",
      "---\n",
      "\n",
      "## 1. Estrutura lógica e progressão dos argumentos\n",
      "\n",
      "| Elemento | Defesa de Prost | Defesa de Senna |\n",
      "|----------|----------------|-----------------|\n",
      "| **Introdução** | Apresenta imediatamente o conceito de “consistência e estratégia”, criando um fio condutor que permeia todo o texto. | Começa com “velocidade bruta e qualidade de qualificação”, mas não conecta tão claramente com os demais tópicos. |\n",
      "| **Desenvolvimento** | Cada linha da tabela segue um padrão: afirmação → evidência quantitativa → explicação do impacto (ex.: 4 títulos → 51 vitórias → “coloca entre os maiores vencedores”). | Embora haja evidências (65 poles, 3 títulos), alguns itens ficam mais descritivos que analíticos (ex.: “carisma e inspiração nacional”). |\n",
      "| **Conclusão** | Resume de forma sintética o que torna Prost “o piloto mais completo”, reforçando a tese inicial. | O resumo enfatiza emoção e mito, mas não amarra todos os pontos ao objetivo de provar a superioridade. |\n",
      "\n",
      "**Resultado:** A defesa de Prost tem uma progressão mais linear e cumulativa, facilitando a compreensão e a persuasão.\n",
      "\n",
      "---\n",
      "\n",
      "## 2. Uso de dados quantitativos e comparações objetivas\n",
      "\n",
      "- **Prost:**  \n",
      "  - 4 campeonatos (1985, 1986, 1989, 1993) – um recorde na época.  \n",
      "  - 51 vitórias, 106 pódios, 33 pole positions.  \n",
      "  - Média de 5,44 pontos por corrida em 1986 (sistema de pontuação restrito).  \n",
      "  - Conquista de títulos com duas equipes diferentes (McLaren e Williams) – e vice‑campeonatos com Renault e Ferrari, demonstrando adaptabilidade.\n",
      "\n",
      "- **Senna:**  \n",
      "  - 3 campeonatos (1988, 1990, 1991).  \n",
      "  - 65 poles (recorde que durou 12 anos).  \n",
      "  - 41 vitórias, 80 pódios.  \n",
      "\n",
      "Embora Senna tenha mais poles, a defesa de Prost traz **mais métricas de consistência ao longo da temporada** (pontos por corrida, versatilidade em diferentes chassis) e **contextualiza** esses números dentro das regras da época, o que confere maior peso ao argumento.\n",
      "\n",
      "---\n",
      "\n",
      "## 3. Profundidade da análise técnica\n",
      "\n",
      "- **Prost:**  \n",
      "  - Destaca a “abordagem quase matemática”, a capacidade de **gerenciar pneus, motor e estratégia de pontuação**.  \n",
      "  - Evidencia a **influência no desenvolvimento técnico** (feedback preciso, colaboração com engenheiros, evolução da aerodinâmica).  \n",
      "  - Menciona a **gestão de pressão** em situações de alta tensão (ex.: GP da Austrália 1986).\n",
      "\n",
      "- **Senna:**  \n",
      "  - Foca em “velocidade bruta”, “domínio em molhados” e “coragem”.  \n",
      "  - Embora impressionantes, esses atributos são mais **qualitativos** e menos ligados a processos de engenharia ou à evolução do carro.\n",
      "\n",
      "**Conclusão:** A defesa de Prost oferece uma análise mais **multidimensional**, ligando desempenho ao desenvolvimento tecnológico e à estratégia de equipe, o que a torna mais robusta para quem busca argumentos racionais.\n",
      "\n",
      "---\n",
      "\n",
      "## 4. Legado e impacto fora da pista\n",
      "\n",
      "- **Prost:**  \n",
      "  - Presidente da FIA (1993‑1997) – contribuiu diretamente para **melhorias de segurança** e governança do esporte.  \n",
      "  - Seu papel institucional é apresentado como **continuidade do seu “cérebro frio”** aplicado à gestão.\n",
      "\n",
      "- **Senna:**  \n",
      "  - Inspiração nacional, fundação beneficente, catalisador de mudanças de segurança após sua morte.  \n",
      "  - Embora extremamente importante, o legado de Senna é **mais emocional** e menos ligado a ações concretas que ele próprio realizou em cargos de decisão.\n",
      "\n",
      "Para uma defesa que busca provar **superioridade objetiva**, o legado institucional de Prost tem maior peso argumentativo.\n",
      "\n",
      "---\n",
      "\n",
      "## 5. Persuasão e apelo ao leitor neutro\n",
      "\n",
      "- A defesa de Prost utiliza **dados comparáveis**, **exemplos concretos** e **raciocínio sequencial**, o que tende a convencer leitores que valorizam **evidência empírica**.  \n",
      "- A defesa de Senna apela fortemente ao **sentimento**, ao **mito** e à **identificação cultural**, o que pode ser decisivo para fãs, mas menos eficaz em um debate puramente analítico.\n",
      "\n",
      "---\n",
      "\n",
      "## 6. Resumo da avaliação\n",
      "\n",
      "| Critério | Defesa de Prost | Defesa de Senna |\n",
      "|----------|----------------|-----------------|\n",
      "| Estrutura lógica | ★★★★★ | ★★★★☆ |\n",
      "| Dados quantitativos | ★★★★★ | ★★★★☆ |\n",
      "| Análise técnica | ★★★★★ | ★★★☆☆ |\n",
      "| Legado institucional | ★★★★★ | ★★★★☆ |\n",
      "| Persuasão racional | ★★★★★ | ★★★★☆ |\n",
      "| Apelo emocional | ★★★☆☆ | ★★★★★ |\n",
      "\n",
      "**Pontuação total (máx. 30):**  \n",
      "- **Prost:** 28/30  \n",
      "- **Senna:** 24/30  \n",
      "\n",
      "---\n",
      "\n",
      "## 7. Conclusão final\n",
      "\n",
      "> **A defesa de Alain Prost – “O Professor”** é a melhor defesa apresentada.  \n",
      "> Ela combina **coerência argumentativa**, **evidências quantitativas robustas**, **análise técnica aprofundada** e **legado institucional concreto**, oferecendo ao leitor uma linha de raciocínio clara e persuasiva.  \n",
      "\n",
      "Isso não diminui, de forma alguma, a força da defesa de Ayrton Senna, que brilha em aspectos emocionais, carismáticos e inspiradores. O debate continua vivo justamente porque cada defesa apela a diferentes valores: a razão versus a paixão. Mas, sob o critério de “melhor defesa” – entendida como a que apresenta o argumento mais estruturado e fundamentado – Prost leva a melhor.\n"
     ]
    }
   ],
   "source": [
    "# Segunda resposta\n",
    "\n",
    "print(response_final[\"response_second_node\"].content)"
   ]
  }
 ],
 "metadata": {
  "kernelspec": {
   "display_name": "langgraph-course-py3.13",
   "language": "python",
   "name": "python3"
  },
  "language_info": {
   "codemirror_mode": {
    "name": "ipython",
    "version": 3
   },
   "file_extension": ".py",
   "mimetype": "text/x-python",
   "name": "python",
   "nbconvert_exporter": "python",
   "pygments_lexer": "ipython3",
   "version": "3.13.0"
  }
 },
 "nbformat": 4,
 "nbformat_minor": 5
}
