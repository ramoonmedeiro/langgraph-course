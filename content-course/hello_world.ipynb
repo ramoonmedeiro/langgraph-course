{
 "cells": [
  {
   "cell_type": "markdown",
   "id": "52f58a83",
   "metadata": {},
   "source": [
    "# Criando a estrutura do grafo"
   ]
  },
  {
   "cell_type": "code",
   "execution_count": 2,
   "id": "c7440ea6",
   "metadata": {},
   "outputs": [],
   "source": [
    "from typing import TypedDict\n",
    "from langchain.chat_models import init_chat_model\n",
    "\n",
    "class State(TypedDict):\n",
    "    topic: str\n",
    "    model: init_chat_model\n",
    "    prompt: str\n",
    "    response: str"
   ]
  },
  {
   "cell_type": "markdown",
   "id": "cf0dd514",
   "metadata": {},
   "source": [
    "### Criando único Nó"
   ]
  },
  {
   "cell_type": "code",
   "execution_count": 3,
   "id": "47bca2c6",
   "metadata": {},
   "outputs": [],
   "source": [
    "def node_generation(state: State) -> State:\n",
    "    topic = state[\"topic\"]\n",
    "    model = state[\"model\"]\n",
    "    prompt = state[\"prompt\"]\n",
    "    final_prompt = prompt.format(topic=topic)\n",
    "    response = model.invoke(final_prompt)\n",
    "    return {\n",
    "        \"response\": response.content\n",
    "    }\n",
    "    "
   ]
  },
  {
   "cell_type": "markdown",
   "id": "9bc5b5b4",
   "metadata": {},
   "source": [
    "### Criando conexão dos nós"
   ]
  },
  {
   "cell_type": "code",
   "execution_count": 4,
   "id": "0be600df",
   "metadata": {},
   "outputs": [
    {
     "data": {
      "text/plain": [
       "<langgraph.graph.state.StateGraph at 0x7702e42da900>"
      ]
     },
     "execution_count": 4,
     "metadata": {},
     "output_type": "execute_result"
    }
   ],
   "source": [
    "from langgraph.graph import START, END\n",
    "from langgraph.graph import StateGraph\n",
    "\n",
    "graph_builder = StateGraph(State)\n",
    "\n",
    "# nós\n",
    "graph_builder.add_node(\"generation_node\", node_generation)\n",
    "\n",
    "# edges\n",
    "graph_builder.add_edge(START, \"generation_node\")\n",
    "graph_builder.add_edge(\"generation_node\", END)"
   ]
  },
  {
   "cell_type": "markdown",
   "id": "72685854",
   "metadata": {},
   "source": [
    "### Compilando grafo"
   ]
  },
  {
   "cell_type": "code",
   "execution_count": 5,
   "id": "8b292052",
   "metadata": {},
   "outputs": [],
   "source": [
    "graph_compiled = graph_builder.compile()"
   ]
  },
  {
   "cell_type": "markdown",
   "id": "1151a362",
   "metadata": {},
   "source": [
    "### Plotando grafo"
   ]
  },
  {
   "cell_type": "code",
   "execution_count": 6,
   "id": "e085b99f",
   "metadata": {},
   "outputs": [
    {
     "data": {
      "image/png": "[encoded data removed]",
      "text/plain": [
       "<IPython.core.display.Image object>"
      ]
     },
     "metadata": {},
     "output_type": "display_data"
    }
   ],
   "source": [
    "from IPython.display import display, Image\n",
    "\n",
    "display(Image(graph_compiled.get_graph().draw_mermaid_png()))"
   ]
  },
  {
   "cell_type": "markdown",
   "id": "367af95c",
   "metadata": {},
   "source": [
    "# Rodando o grafo"
   ]
  },
  {
   "cell_type": "code",
   "execution_count": 10,
   "id": "b9cc8ab0",
   "metadata": {},
   "outputs": [],
   "source": [
    "llm_groq = init_chat_model(\n",
    "    model=\"groq:openai/gpt-oss-120b\", \n",
    "    temperature=0, \n",
    "    timeout=10, \n",
    "    max_tokens=8000\n",
    ")\n",
    "\n",
    "topic = \"Senna vs Prost\"\n",
    "prompt = \"\"\"\n",
    "Você deverá saber discutir sobre um certo tópico, seja imparcial e traga dois argumentos para cada lado\n",
    "\n",
    "** Tópico **\n",
    "{topic}\n",
    "\"\"\"\n",
    "\n",
    "state = {\n",
    "    \"model\": llm_groq,\n",
    "    \"topic\": topic,\n",
    "    \"prompt\": prompt,\n",
    "    \"response\": \"\"\n",
    "}\n",
    "\n",
    "response_graph = graph_compiled.invoke(state)"
   ]
  },
  {
   "cell_type": "code",
   "execution_count": 11,
   "id": "747dda00",
   "metadata": {},
   "outputs": [
    {
     "data": {
      "text/plain": [
       "{'topic': 'Senna vs Prost',\n",
       " 'model': ChatGroq(client=<groq.resources.chat.completions.Completions object at 0x7702cd4bda90>, async_client=<groq.resources.chat.completions.AsyncCompletions object at 0x7702cd4be490>, model_name='openai/gpt-oss-120b', temperature=1e-08, model_kwargs={}, groq_api_key=SecretStr('**********'), request_timeout=10.0, max_tokens=8000),\n",
       " 'prompt': '\\nVocê deverá saber discutir sobre um certo tópico, seja imparcial e traga dois argumentos para cada lado\\n\\n** Tópico **\\n{topic}\\n',\n",
       " 'response': '**Senna vs. Prost – Uma análise imparcial da rivalidade**\\n\\nA rivalidade entre Ayrton Senna e Alain\\u202fProst marcou a história da Fórmula\\u202f1 nos anos 1980‑e‑1990. Ambos foram campeões mundiais, mas suas personalidades, estilos de pilotagem e estratégias de corrida eram bastante diferentes. A seguir, apresento dois argumentos que favorecem cada um, sem pretender eleger um “vencedor” definitivo, mas destacando os pontos fortes de cada piloto.\\n\\n---\\n\\n## **Argumentos a favor de Ayrton Senna**\\n\\n| # | Argumento | Explicação |\\n|---|-----------|------------|\\n| **1** | **Domínio em condições de chuva e em circuitos de rua** | Senna ficou conhecido como “o rei da chuva”. Suas performances em pistas molhadas – como o GP de Mônaco de 1984, o GP de Portugal de 1985 e o GP de San Marino de 1994 – foram quase imbatíveis, demonstrando um controle de carro e uma sensibilidade ao limite de aderência que poucos pilotos conseguiram reproduzir. Essa habilidade lhe rendeu vitórias decisivas e consolidou sua reputação de piloto “de puro talento”. |\\n| **2** | **Carisma e legado humanitário** | Além das pistas, Senna construiu uma imagem de herói nacional no Brasil e um ícone global. Seu envolvimento com projetos sociais, especialmente o Instituto Ayrton\\u202fSenna, que promove educação para crianças desfavorecidas, ampliou seu impacto para além do esporte. Esse legado humanitário reforça a admiração pública e a influência duradoura do piloto. |\\n\\n---\\n\\n## **Argumentos a favor de Alain\\u202fProst**\\n\\n| # | Argumento | Explicação |\\n|---|-----------|------------|\\n| **1** | **Inteligência estratégica e consistência** | Prost era apelidado de “O Professor” por sua abordagem metódica das corridas. Ele sabia quando preservar o carro, quando atacar e como maximizar os pontos ao longo da temporada. Essa consistência resultou em quatro campeonatos mundiais (1985, 1986, 1989, 1993) e em um recorde de 51 pódios antes de 1993, evidenciando sua capacidade de transformar talento em resultados sustentáveis. |\\n| **2** | **Desenvolvimento técnico e parceria com a equipe** | Prost tinha um papel ativo no desenvolvimento dos carros, colaborando estreitamente com engenheiros para melhorar aerodinâmica, suspensão e gestão de pneus. Sua parceria com a McLaren (e, mais tarde, com a Williams) ajudou a transformar esses bastidores em vantagem competitiva, demonstrando que seu valor ia além da pilotagem, influenciando diretamente a evolução tecnológica da equipe. |\\n\\n---\\n\\n## **Síntese equilibrada**\\n\\n- **Talento puro vs. inteligência tática** – Enquanto Senna encantava com sua velocidade extrema e domínio em condições adversas, Prost se destacava pela capacidade de “pilotar a corrida” como um xadrez, priorizando a pontuação ao longo da temporada.\\n- **Carisma pessoal vs. profissionalismo técnico** – O carisma de Senna e seu legado social criaram uma conexão emocional profunda com fãs, enquanto a postura analítica de Prost estabeleceu um modelo de profissionalismo que ainda serve de referência para pilotos modernos.\\n- **Impacto na história da F1** – Ambos deixaram marcas indeléveis: Senna elevou o nível de exigência física e mental dos pilotos, e Prost mostrou que a estratégia e a colaboração com a equipe são tão decisivas quanto a velocidade pura.\\n\\nEm resumo, a rivalidade Senna\\u202f×\\u202fProst não pode ser reduzida a “quem foi melhor”. Cada um trouxe ao esporte qualidades distintas que, combinadas, elevaram a Fórmula\\u202f1 a patamares nunca antes vistos. A apreciação equilibrada desses dois ícones permite reconhecer tanto o brilho emocional de Senna quanto a genialidade tática de Prost.'}"
      ]
     },
     "execution_count": 11,
     "metadata": {},
     "output_type": "execute_result"
    }
   ],
   "source": [
    "response_graph"
   ]
  },
  {
   "cell_type": "code",
   "execution_count": 12,
   "id": "6c375fb3",
   "metadata": {},
   "outputs": [
    {
     "name": "stdout",
     "output_type": "stream",
     "text": [
      "**Senna vs. Prost – Uma análise imparcial da rivalidade**\n",
      "\n",
      "A rivalidade entre Ayrton Senna e Alain Prost marcou a história da Fórmula 1 nos anos 1980‑e‑1990. Ambos foram campeões mundiais, mas suas personalidades, estilos de pilotagem e estratégias de corrida eram bastante diferentes. A seguir, apresento dois argumentos que favorecem cada um, sem pretender eleger um “vencedor” definitivo, mas destacando os pontos fortes de cada piloto.\n",
      "\n",
      "---\n",
      "\n",
      "## **Argumentos a favor de Ayrton Senna**\n",
      "\n",
      "| # | Argumento | Explicação |\n",
      "|---|-----------|------------|\n",
      "| **1** | **Domínio em condições de chuva e em circuitos de rua** | Senna ficou conhecido como “o rei da chuva”. Suas performances em pistas molhadas – como o GP de Mônaco de 1984, o GP de Portugal de 1985 e o GP de San Marino de 1994 – foram quase imbatíveis, demonstrando um controle de carro e uma sensibilidade ao limite de aderência que poucos pilotos conseguiram reproduzir. Essa habilidade lhe rendeu vitórias decisivas e consolidou sua reputação de piloto “de puro talento”. |\n",
      "| **2** | **Carisma e legado humanitário** | Além das pistas, Senna construiu uma imagem de herói nacional no Brasil e um ícone global. Seu envolvimento com projetos sociais, especialmente o Instituto Ayrton Senna, que promove educação para crianças desfavorecidas, ampliou seu impacto para além do esporte. Esse legado humanitário reforça a admiração pública e a influência duradoura do piloto. |\n",
      "\n",
      "---\n",
      "\n",
      "## **Argumentos a favor de Alain Prost**\n",
      "\n",
      "| # | Argumento | Explicação |\n",
      "|---|-----------|------------|\n",
      "| **1** | **Inteligência estratégica e consistência** | Prost era apelidado de “O Professor” por sua abordagem metódica das corridas. Ele sabia quando preservar o carro, quando atacar e como maximizar os pontos ao longo da temporada. Essa consistência resultou em quatro campeonatos mundiais (1985, 1986, 1989, 1993) e em um recorde de 51 pódios antes de 1993, evidenciando sua capacidade de transformar talento em resultados sustentáveis. |\n",
      "| **2** | **Desenvolvimento técnico e parceria com a equipe** | Prost tinha um papel ativo no desenvolvimento dos carros, colaborando estreitamente com engenheiros para melhorar aerodinâmica, suspensão e gestão de pneus. Sua parceria com a McLaren (e, mais tarde, com a Williams) ajudou a transformar esses bastidores em vantagem competitiva, demonstrando que seu valor ia além da pilotagem, influenciando diretamente a evolução tecnológica da equipe. |\n",
      "\n",
      "---\n",
      "\n",
      "## **Síntese equilibrada**\n",
      "\n",
      "- **Talento puro vs. inteligência tática** – Enquanto Senna encantava com sua velocidade extrema e domínio em condições adversas, Prost se destacava pela capacidade de “pilotar a corrida” como um xadrez, priorizando a pontuação ao longo da temporada.\n",
      "- **Carisma pessoal vs. profissionalismo técnico** – O carisma de Senna e seu legado social criaram uma conexão emocional profunda com fãs, enquanto a postura analítica de Prost estabeleceu um modelo de profissionalismo que ainda serve de referência para pilotos modernos.\n",
      "- **Impacto na história da F1** – Ambos deixaram marcas indeléveis: Senna elevou o nível de exigência física e mental dos pilotos, e Prost mostrou que a estratégia e a colaboração com a equipe são tão decisivas quanto a velocidade pura.\n",
      "\n",
      "Em resumo, a rivalidade Senna × Prost não pode ser reduzida a “quem foi melhor”. Cada um trouxe ao esporte qualidades distintas que, combinadas, elevaram a Fórmula 1 a patamares nunca antes vistos. A apreciação equilibrada desses dois ícones permite reconhecer tanto o brilho emocional de Senna quanto a genialidade tática de Prost.\n"
     ]
    }
   ],
   "source": [
    "print(response_graph[\"response\"])"
   ]
  }
 ],
 "metadata": {
  "kernelspec": {
   "display_name": "langgraph-course-p2dPCP21-py3.13",
   "language": "python",
   "name": "python3"
  },
  "language_info": {
   "codemirror_mode": {
    "name": "ipython",
    "version": 3
   },
   "file_extension": ".py",
   "mimetype": "text/x-python",
   "name": "python",
   "nbconvert_exporter": "python",
   "pygments_lexer": "ipython3",
   "version": "3.13.5"
  }
 },
 "nbformat": 4,
 "nbformat_minor": 5
}
