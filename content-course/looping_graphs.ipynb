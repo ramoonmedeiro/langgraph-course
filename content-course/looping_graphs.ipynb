{
 "cells": [
  {
   "cell_type": "markdown",
   "metadata": {},
   "source": [
    "# Grafos em looping\n",
    "\n",
    "É ideal para problemas onde estamos querendo que seja iterado até uma certa condição seja satisfeita\n",
    "\n",
    "Aqui vamos criar um fluxo onde ele irá verificar se um contador atingiu o número 5 e depois irá seguir para o restante do fluxo"
   ]
  },
  {
   "cell_type": "markdown",
   "metadata": {},
   "source": [
    "### Criando estado do grafo"
   ]
  },
  {
   "cell_type": "code",
   "execution_count": 36,
   "metadata": {},
   "outputs": [],
   "source": [
    "from typing import TypedDict, List\n",
    "\n",
    "class State(TypedDict):\n",
    "\tnome: str\n",
    "\tcontador: int\n",
    "\tlista_numero_aleatorios: List[int]"
   ]
  },
  {
   "cell_type": "markdown",
   "metadata": {},
   "source": [
    "### Criando nós"
   ]
  },
  {
   "cell_type": "code",
   "execution_count": 37,
   "metadata": {},
   "outputs": [],
   "source": [
    "def cumprimento_node(state: State) -> State:\n",
    "\tnome = state[\"nome\"]\n",
    "\tprint(f\"Olá {nome}. Iremos iniciar a contagem.\")\n",
    "\treturn {}"
   ]
  },
  {
   "cell_type": "code",
   "execution_count": 38,
   "metadata": {},
   "outputs": [],
   "source": [
    "import random\n",
    "\n",
    "def random_numbers(state: State) -> State:\n",
    "\t# Inserindo novo elemento na lista\n",
    "\tlista = state[\"lista_numero_aleatorios\"]\n",
    "\tnum_aleatorio = random.randint(1, 10)\n",
    "\tlista.append(num_aleatorio)\n",
    "\n",
    "\t# Inserindo +1 para o contador\n",
    "\tcontador = state[\"contador\"] + 1\n",
    "\n",
    "\tprint(f\"Contador em: {contador}\")\n",
    "\tprint(f\"Lista: {lista}\")\n",
    "\n",
    "\treturn {\n",
    "\t\t\"lista_numero_aleatorios\": lista,\n",
    "\t\t\"contador\": contador\n",
    "\t}"
   ]
  },
  {
   "cell_type": "markdown",
   "metadata": {},
   "source": [
    "### Criando condicional"
   ]
  },
  {
   "cell_type": "code",
   "execution_count": 39,
   "metadata": {},
   "outputs": [],
   "source": [
    "from typing import Literal\n",
    "\n",
    "def deve_continuar(state: State) -> Literal[\"random_numbers_again\", \"end\"]:\n",
    "\tif state[\"contador\"] < 5:\n",
    "\t\treturn \"random_numbers_again\"\n",
    "\treturn \"end\""
   ]
  },
  {
   "cell_type": "markdown",
   "metadata": {},
   "source": [
    "### Criando estruturas de nós"
   ]
  },
  {
   "cell_type": "code",
   "execution_count": 40,
   "metadata": {},
   "outputs": [],
   "source": [
    "from langgraph.graph import StateGraph\n",
    "\n",
    "graph_builder = StateGraph(State)"
   ]
  },
  {
   "cell_type": "code",
   "execution_count": 41,
   "metadata": {},
   "outputs": [
    {
     "data": {
      "text/plain": [
       "<langgraph.graph.state.StateGraph at 0x710efe3c7d90>"
      ]
     },
     "execution_count": 41,
     "metadata": {},
     "output_type": "execute_result"
    }
   ],
   "source": [
    "from langgraph.graph import END, START\n",
    "\n",
    "graph_builder.add_node(\"cumprimento_node\", cumprimento_node)\n",
    "graph_builder.add_node(\"random_numbers_node\", random_numbers)\n",
    "\n",
    "graph_builder.add_conditional_edges(\n",
    "    \"random_numbers_node\",\n",
    "    deve_continuar,\n",
    "    {\n",
    "        \"random_numbers_again\": \"random_numbers_node\",\n",
    "        \"end\": END\n",
    "    }\n",
    ")\n",
    "\n",
    "\n",
    "graph_builder.add_edge(START, \"cumprimento_node\")\n",
    "graph_builder.add_edge(\"cumprimento_node\", \"random_numbers_node\")"
   ]
  },
  {
   "cell_type": "code",
   "execution_count": 42,
   "metadata": {},
   "outputs": [],
   "source": [
    "graph_compiled = graph_builder.compile()"
   ]
  },
  {
   "cell_type": "code",
   "execution_count": 43,
   "metadata": {},
   "outputs": [
    {
     "data": {
      "image/png": "[encoded data removed]",
      "text/plain": [
       "<IPython.core.display.Image object>"
      ]
     },
     "metadata": {},
     "output_type": "display_data"
    }
   ],
   "source": [
    "from IPython.display import display, Image\n",
    "\n",
    "display(Image(graph_compiled.get_graph().draw_mermaid_png()))"
   ]
  },
  {
   "cell_type": "markdown",
   "metadata": {},
   "source": [
    "# Rodando o grafo"
   ]
  },
  {
   "cell_type": "code",
   "execution_count": 44,
   "metadata": {},
   "outputs": [],
   "source": [
    "state = {\n",
    "\t\"nome\": \"Natália\",\n",
    "\t\"contador\": 0,\n",
    "\t\"lista_numero_aleatorios\": []\n",
    "}"
   ]
  },
  {
   "cell_type": "code",
   "execution_count": 45,
   "metadata": {},
   "outputs": [
    {
     "name": "stdout",
     "output_type": "stream",
     "text": [
      "Olá Natália. Iremos iniciar a contagem.\n",
      "Contador em: 1\n",
      "Lista: [4]\n",
      "Contador em: 2\n",
      "Lista: [4, 6]\n",
      "Contador em: 3\n",
      "Lista: [4, 6, 4]\n",
      "Contador em: 4\n",
      "Lista: [4, 6, 4, 5]\n",
      "Contador em: 5\n",
      "Lista: [4, 6, 4, 5, 3]\n"
     ]
    }
   ],
   "source": [
    "resp = graph_compiled.invoke(state)"
   ]
  },
  {
   "cell_type": "code",
   "execution_count": 46,
   "metadata": {},
   "outputs": [
    {
     "data": {
      "text/plain": [
       "{'nome': 'Natália', 'contador': 5, 'lista_numero_aleatorios': [4, 6, 4, 5, 3]}"
      ]
     },
     "execution_count": 46,
     "metadata": {},
     "output_type": "execute_result"
    }
   ],
   "source": [
    "resp"
   ]
  },
  {
   "cell_type": "code",
   "execution_count": null,
   "metadata": {},
   "outputs": [],
   "source": []
  },
  {
   "cell_type": "code",
   "execution_count": null,
   "metadata": {},
   "outputs": [],
   "source": []
  }
 ],
 "metadata": {
  "kernelspec": {
   "display_name": "langgraph-course-py3.13",
   "language": "python",
   "name": "python3"
  },
  "language_info": {
   "codemirror_mode": {
    "name": "ipython",
    "version": 3
   },
   "file_extension": ".py",
   "mimetype": "text/x-python",
   "name": "python",
   "nbconvert_exporter": "python",
   "pygments_lexer": "ipython3",
   "version": "3.13.0"
  }
 },
 "nbformat": 4,
 "nbformat_minor": 2
}
