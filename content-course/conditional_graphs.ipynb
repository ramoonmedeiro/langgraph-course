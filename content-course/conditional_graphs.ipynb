{
 "cells": [
  {
   "cell_type": "markdown",
   "id": "2d6f4680",
   "metadata": {},
   "source": [
    "# Grafos condicionais\n",
    "\n",
    "São grafos onde possuem um ou mais condicionais que irá determinar a rota do nosso fluxo"
   ]
  },
  {
   "cell_type": "markdown",
   "id": "44e0259f",
   "metadata": {},
   "source": [
    "### Criando estrutura do grafo"
   ]
  },
  {
   "cell_type": "code",
   "execution_count": 2,
   "id": "39e571c1",
   "metadata": {},
   "outputs": [],
   "source": [
    "from typing import TypedDict, Literal\n",
    "from langgraph.graph import StateGraph\n",
    "\n",
    "class State(TypedDict):\n",
    "    number1: int\n",
    "    number2: int\n",
    "    action: Literal[\"+\", \"-\"]\n",
    "    results: int\n",
    "\n",
    "graph_builder = StateGraph(State)"
   ]
  },
  {
   "cell_type": "markdown",
   "id": "7102ac74",
   "metadata": {},
   "source": [
    "### Criando nós"
   ]
  },
  {
   "cell_type": "code",
   "execution_count": 3,
   "id": "27ce0aa3",
   "metadata": {},
   "outputs": [],
   "source": [
    "def node_add(state: State) -> State:\n",
    "    number1 = state[\"number1\"]\n",
    "    number2 = state[\"number2\"]\n",
    "\n",
    "    return {\n",
    "        \"results\": number1 + number2 \n",
    "    }\n",
    "\n",
    "def minus_node(state: State) -> State:\n",
    "    number1 = state[\"number1\"]\n",
    "    number2 = state[\"number2\"]\n",
    "\n",
    "    return {\n",
    "        \"results\": number1 - number2 \n",
    "    }\n",
    "\n",
    "def router_node(state: State) -> State:\n",
    "    return {}"
   ]
  },
  {
   "cell_type": "code",
   "execution_count": 4,
   "id": "a3fc1015",
   "metadata": {},
   "outputs": [],
   "source": [
    "def condition_action(state: State) -> Literal[\"node_add\", \"minus_node\"]:\n",
    "    if state[\"action\"] == \"+\":\n",
    "        return \"node_add\"\n",
    "    if state[\"action\"] == \"-\":\n",
    "        return \"minus_node\""
   ]
  },
  {
   "cell_type": "code",
   "execution_count": 5,
   "id": "ea6340d7",
   "metadata": {},
   "outputs": [],
   "source": [
    "from langgraph.graph import START, END\n",
    "\n",
    "graph_builder.add_node(\"node_add\", node_add)\n",
    "graph_builder.add_node(\"minus_node\", minus_node)\n",
    "graph_builder.add_node(\"router\", router_node)\n",
    "\n",
    "graph_builder.add_conditional_edges(\n",
    "    \"router\",\n",
    "    condition_action,\n",
    "    {\n",
    "        \"node_add\": \"node_add\",\n",
    "        \"minus_node\": \"minus_node\"\n",
    "    }\n",
    ")\n",
    "graph_builder.add_edge(START, \"router\")\n",
    "graph_builder.add_edge(\"node_add\", END)\n",
    "graph_builder.add_edge(\"minus_node\", END)\n",
    "\n",
    "graph_compiled = graph_builder.compile()"
   ]
  },
  {
   "cell_type": "code",
   "execution_count": 6,
   "id": "debaef35",
   "metadata": {},
   "outputs": [
    {
     "data": {
      "image/png": "[encoded data removed]",
      "text/plain": [
       "<IPython.core.display.Image object>"
      ]
     },
     "metadata": {},
     "output_type": "display_data"
    }
   ],
   "source": [
    "from IPython.display import display, Image\n",
    "\n",
    "\n",
    "display(Image(graph_compiled.get_graph().draw_mermaid_png()))"
   ]
  },
  {
   "cell_type": "markdown",
   "id": "895d5100",
   "metadata": {},
   "source": [
    "# Rodando o grafo"
   ]
  },
  {
   "cell_type": "code",
   "execution_count": 7,
   "id": "8e8c716a",
   "metadata": {},
   "outputs": [],
   "source": [
    "state = {\n",
    "    \"number1\": 45,\n",
    "    \"number2\": 23,\n",
    "    \"action\": \"+\",\n",
    "    \"results\": 0\n",
    "}\n",
    "\n",
    "results = graph_compiled.invoke(state)"
   ]
  },
  {
   "cell_type": "code",
   "execution_count": 8,
   "id": "0e2bd81a",
   "metadata": {},
   "outputs": [
    {
     "data": {
      "text/plain": [
       "{'number1': 45, 'number2': 23, 'action': '+', 'results': 68}"
      ]
     },
     "execution_count": 8,
     "metadata": {},
     "output_type": "execute_result"
    }
   ],
   "source": [
    "results"
   ]
  },
  {
   "cell_type": "code",
   "execution_count": null,
   "id": "616578b9",
   "metadata": {},
   "outputs": [],
   "source": []
  }
 ],
 "metadata": {
  "kernelspec": {
   "display_name": "langgraph-course-py3.13",
   "language": "python",
   "name": "python3"
  },
  "language_info": {
   "codemirror_mode": {
    "name": "ipython",
    "version": 3
   },
   "file_extension": ".py",
   "mimetype": "text/x-python",
   "name": "python",
   "nbconvert_exporter": "python",
   "pygments_lexer": "ipython3",
   "version": "3.13.0"
  }
 },
 "nbformat": 4,
 "nbformat_minor": 5
}
