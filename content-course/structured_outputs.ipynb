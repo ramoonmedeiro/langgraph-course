{
 "cells": [
  {
   "cell_type": "markdown",
   "id": "bb060463",
   "metadata": {},
   "source": [
    "# Definindo modelo"
   ]
  },
  {
   "cell_type": "code",
   "execution_count": 2,
   "id": "b17993a6",
   "metadata": {},
   "outputs": [],
   "source": [
    "from langchain_groq import ChatGroq\n",
    "\n",
    "llm = ChatGroq(model=\"llama-3.1-8b-instant\", temperature=0)"
   ]
  },
  {
   "cell_type": "markdown",
   "id": "42a4e2dc",
   "metadata": {},
   "source": [
    "# Criando objeto para mapear a saída"
   ]
  },
  {
   "cell_type": "code",
   "execution_count": 1,
   "id": "c2c7ee24",
   "metadata": {},
   "outputs": [],
   "source": [
    "from pydantic import BaseModel, Field\n",
    "\n",
    "class PlayerChars(BaseModel):\n",
    "    nome: str =  Field(description=\"Nome do jogador em questão\")\n",
    "    idade: str = Field(description=\"Idade do Jogador\")\n",
    "    time: str = Field(description=\"Time que o jogador joga\")"
   ]
  },
  {
   "cell_type": "markdown",
   "id": "95a9e46f",
   "metadata": {},
   "source": [
    "# Bindando o modelo com o tipo de sáida"
   ]
  },
  {
   "cell_type": "code",
   "execution_count": 3,
   "id": "8f84640b",
   "metadata": {},
   "outputs": [],
   "source": [
    "llm_structured = llm.with_structured_output(PlayerChars)"
   ]
  },
  {
   "cell_type": "markdown",
   "id": "7885d5f9",
   "metadata": {},
   "source": [
    "# Rodando"
   ]
  },
  {
   "cell_type": "code",
   "execution_count": 4,
   "id": "5bed5800",
   "metadata": {},
   "outputs": [],
   "source": [
    "response = llm_structured.invoke(\"Qual time, idade que o jogador Lebron james tem\")"
   ]
  },
  {
   "cell_type": "code",
   "execution_count": 5,
   "id": "6290ea22",
   "metadata": {},
   "outputs": [
    {
     "data": {
      "text/plain": [
       "PlayerChars(nome='Lebron James', idade='38', time='Los Angeles Lakers')"
      ]
     },
     "execution_count": 5,
     "metadata": {},
     "output_type": "execute_result"
    }
   ],
   "source": [
    "response"
   ]
  },
  {
   "cell_type": "code",
   "execution_count": null,
   "id": "0a2622b3",
   "metadata": {},
   "outputs": [],
   "source": []
  }
 ],
 "metadata": {
  "kernelspec": {
   "display_name": "langgraph-course-p2dPCP21-py3.13",
   "language": "python",
   "name": "python3"
  },
  "language_info": {
   "codemirror_mode": {
    "name": "ipython",
    "version": 3
   },
   "file_extension": ".py",
   "mimetype": "text/x-python",
   "name": "python",
   "nbconvert_exporter": "python",
   "pygments_lexer": "ipython3",
   "version": "3.13.5"
  }
 },
 "nbformat": 4,
 "nbformat_minor": 5
}
